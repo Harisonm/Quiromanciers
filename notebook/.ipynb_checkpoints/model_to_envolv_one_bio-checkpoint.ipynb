{
 "cells": [
  {
   "cell_type": "code",
   "execution_count": 2,
   "metadata": {},
   "outputs": [
    {
     "name": "stderr",
     "output_type": "stream",
     "text": [
      "/Users/mranaivoharison/opt/anaconda3/envs/py37nlp/lib/python3.7/site-packages/tensorflow/python/framework/dtypes.py:516: FutureWarning: Passing (type, 1) or '1type' as a synonym of type is deprecated; in a future version of numpy, it will be understood as (type, (1,)) / '(1,)type'.\n",
      "  _np_qint8 = np.dtype([(\"qint8\", np.int8, 1)])\n",
      "/Users/mranaivoharison/opt/anaconda3/envs/py37nlp/lib/python3.7/site-packages/tensorflow/python/framework/dtypes.py:517: FutureWarning: Passing (type, 1) or '1type' as a synonym of type is deprecated; in a future version of numpy, it will be understood as (type, (1,)) / '(1,)type'.\n",
      "  _np_quint8 = np.dtype([(\"quint8\", np.uint8, 1)])\n",
      "/Users/mranaivoharison/opt/anaconda3/envs/py37nlp/lib/python3.7/site-packages/tensorflow/python/framework/dtypes.py:518: FutureWarning: Passing (type, 1) or '1type' as a synonym of type is deprecated; in a future version of numpy, it will be understood as (type, (1,)) / '(1,)type'.\n",
      "  _np_qint16 = np.dtype([(\"qint16\", np.int16, 1)])\n",
      "/Users/mranaivoharison/opt/anaconda3/envs/py37nlp/lib/python3.7/site-packages/tensorflow/python/framework/dtypes.py:519: FutureWarning: Passing (type, 1) or '1type' as a synonym of type is deprecated; in a future version of numpy, it will be understood as (type, (1,)) / '(1,)type'.\n",
      "  _np_quint16 = np.dtype([(\"quint16\", np.uint16, 1)])\n",
      "/Users/mranaivoharison/opt/anaconda3/envs/py37nlp/lib/python3.7/site-packages/tensorflow/python/framework/dtypes.py:520: FutureWarning: Passing (type, 1) or '1type' as a synonym of type is deprecated; in a future version of numpy, it will be understood as (type, (1,)) / '(1,)type'.\n",
      "  _np_qint32 = np.dtype([(\"qint32\", np.int32, 1)])\n",
      "/Users/mranaivoharison/opt/anaconda3/envs/py37nlp/lib/python3.7/site-packages/tensorflow/python/framework/dtypes.py:525: FutureWarning: Passing (type, 1) or '1type' as a synonym of type is deprecated; in a future version of numpy, it will be understood as (type, (1,)) / '(1,)type'.\n",
      "  np_resource = np.dtype([(\"resource\", np.ubyte, 1)])\n",
      "/Users/mranaivoharison/opt/anaconda3/envs/py37nlp/lib/python3.7/site-packages/tensorboard/compat/tensorflow_stub/dtypes.py:541: FutureWarning: Passing (type, 1) or '1type' as a synonym of type is deprecated; in a future version of numpy, it will be understood as (type, (1,)) / '(1,)type'.\n",
      "  _np_qint8 = np.dtype([(\"qint8\", np.int8, 1)])\n",
      "/Users/mranaivoharison/opt/anaconda3/envs/py37nlp/lib/python3.7/site-packages/tensorboard/compat/tensorflow_stub/dtypes.py:542: FutureWarning: Passing (type, 1) or '1type' as a synonym of type is deprecated; in a future version of numpy, it will be understood as (type, (1,)) / '(1,)type'.\n",
      "  _np_quint8 = np.dtype([(\"quint8\", np.uint8, 1)])\n",
      "/Users/mranaivoharison/opt/anaconda3/envs/py37nlp/lib/python3.7/site-packages/tensorboard/compat/tensorflow_stub/dtypes.py:543: FutureWarning: Passing (type, 1) or '1type' as a synonym of type is deprecated; in a future version of numpy, it will be understood as (type, (1,)) / '(1,)type'.\n",
      "  _np_qint16 = np.dtype([(\"qint16\", np.int16, 1)])\n",
      "/Users/mranaivoharison/opt/anaconda3/envs/py37nlp/lib/python3.7/site-packages/tensorboard/compat/tensorflow_stub/dtypes.py:544: FutureWarning: Passing (type, 1) or '1type' as a synonym of type is deprecated; in a future version of numpy, it will be understood as (type, (1,)) / '(1,)type'.\n",
      "  _np_quint16 = np.dtype([(\"quint16\", np.uint16, 1)])\n",
      "/Users/mranaivoharison/opt/anaconda3/envs/py37nlp/lib/python3.7/site-packages/tensorboard/compat/tensorflow_stub/dtypes.py:545: FutureWarning: Passing (type, 1) or '1type' as a synonym of type is deprecated; in a future version of numpy, it will be understood as (type, (1,)) / '(1,)type'.\n",
      "  _np_qint32 = np.dtype([(\"qint32\", np.int32, 1)])\n",
      "/Users/mranaivoharison/opt/anaconda3/envs/py37nlp/lib/python3.7/site-packages/tensorboard/compat/tensorflow_stub/dtypes.py:550: FutureWarning: Passing (type, 1) or '1type' as a synonym of type is deprecated; in a future version of numpy, it will be understood as (type, (1,)) / '(1,)type'.\n",
      "  np_resource = np.dtype([(\"resource\", np.ubyte, 1)])\n"
     ]
    }
   ],
   "source": [
    "import tensorflow as tf\n",
    "import pandas as pd\n",
    "import numpy as np\n",
    "import matplotlib.pyplot as plt\n",
    "from tensorflow.python.keras.models import Sequential\n",
    "from tensorflow.python.keras.layers import Dense, Activation\n",
    "from tensorflow.python.keras.layers import LSTM\n",
    "from tensorflow.python.keras.optimizers import RMSprop\n",
    "from tensorflow.python.keras.callbacks import LambdaCallback, ModelCheckpoint\n",
    "import random\n",
    "import sys\n",
    "import io"
   ]
  },
  {
   "cell_type": "code",
   "execution_count": 3,
   "metadata": {},
   "outputs": [],
   "source": [
    "#print(tf.test.gpu_device_name())\n",
    "# See https://www.tensorflow.org/tutorials/using_gpu#allowing_gpu_memory_growth\n",
    "#config = tf.ConfigProto()\n",
    "#config.gpu_options.allow_growth = True\n",
    "filename = \"../data/biographie_df.csv\""
   ]
  },
  {
   "cell_type": "code",
   "execution_count": 4,
   "metadata": {},
   "outputs": [
    {
     "data": {
      "text/html": [
       "<div>\n",
       "<style scoped>\n",
       "    .dataframe tbody tr th:only-of-type {\n",
       "        vertical-align: middle;\n",
       "    }\n",
       "\n",
       "    .dataframe tbody tr th {\n",
       "        vertical-align: top;\n",
       "    }\n",
       "\n",
       "    .dataframe thead th {\n",
       "        text-align: right;\n",
       "    }\n",
       "</style>\n",
       "<table border=\"1\" class=\"dataframe\">\n",
       "  <thead>\n",
       "    <tr style=\"text-align: right;\">\n",
       "      <th></th>\n",
       "      <th>name</th>\n",
       "      <th>biographie</th>\n",
       "    </tr>\n",
       "  </thead>\n",
       "  <tbody>\n",
       "    <tr>\n",
       "      <th>0</th>\n",
       "      <td>Eminem</td>\n",
       "      <td>Marshall Bruce Mathers III (born October 17, 1...</td>\n",
       "    </tr>\n",
       "    <tr>\n",
       "      <th>1</th>\n",
       "      <td>Lady Gaga</td>\n",
       "      <td>Stefani Joanne Angelina Germanotta ( STEF-ən-e...</td>\n",
       "    </tr>\n",
       "    <tr>\n",
       "      <th>2</th>\n",
       "      <td>Justin Bieber</td>\n",
       "      <td>Justin Drew Bieber (; born March 1, 1994) is a...</td>\n",
       "    </tr>\n",
       "    <tr>\n",
       "      <th>3</th>\n",
       "      <td>Lil Wayne</td>\n",
       "      <td>Dwayne Michael Carter Jr. (born September 27, ...</td>\n",
       "    </tr>\n",
       "    <tr>\n",
       "      <th>4</th>\n",
       "      <td>Miley Cyrus</td>\n",
       "      <td>Miley Ray Hemsworth (née Cyrus, born Destiny H...</td>\n",
       "    </tr>\n",
       "  </tbody>\n",
       "</table>\n",
       "</div>"
      ],
      "text/plain": [
       "            name                                         biographie\n",
       "0         Eminem  Marshall Bruce Mathers III (born October 17, 1...\n",
       "1      Lady Gaga  Stefani Joanne Angelina Germanotta ( STEF-ən-e...\n",
       "2  Justin Bieber  Justin Drew Bieber (; born March 1, 1994) is a...\n",
       "3      Lil Wayne  Dwayne Michael Carter Jr. (born September 27, ...\n",
       "4    Miley Cyrus  Miley Ray Hemsworth (née Cyrus, born Destiny H..."
      ]
     },
     "execution_count": 4,
     "metadata": {},
     "output_type": "execute_result"
    }
   ],
   "source": [
    "# Read in only the two columns we need \n",
    "chat = pd.read_csv(filename, encoding=\"utf-8\", sep=\";\", usecols = ['name', 'biographie'])\n",
    "# chat = pd.read_csv(filename, encoding=\"utf-8\", sep=\";\")\n",
    "# We don't want bots :) \n",
    "chat.head()"
   ]
  },
  {
   "cell_type": "code",
   "execution_count": 5,
   "metadata": {},
   "outputs": [
    {
     "data": {
      "image/png": "[encoded data removed]",
      "text/plain": [
       "<Figure size 864x648 with 1 Axes>"
      ]
     },
     "metadata": {},
     "output_type": "display_data"
    }
   ],
   "source": [
    "plt.style.use('fivethirtyeight')\n",
    "f, g = plt.subplots(figsize=(12, 9))\n",
    "chat['name'].value_counts().head(10).plot.bar(color=\"green\")\n",
    "g.set_xticklabels(g.get_xticklabels(), rotation=25)\n",
    "plt.title(\"Most active users in freeCodeCamp's Gitter channel\")\n",
    "plt.show(g)"
   ]
  },
  {
   "cell_type": "code",
   "execution_count": 6,
   "metadata": {},
   "outputs": [
    {
     "data": {
      "text/plain": [
       "2    Justin Drew Bieber (; born March 1, 1994) is a...\n",
       "Name: biographie, dtype: object"
      ]
     },
     "execution_count": 6,
     "metadata": {},
     "output_type": "execute_result"
    }
   ],
   "source": [
    "chat[chat['name'] == \"Justin Bieber\"].biographie.head(20)"
   ]
  },
  {
   "cell_type": "code",
   "execution_count": 49,
   "metadata": {},
   "outputs": [
    {
     "name": "stdout",
     "output_type": "stream",
     "text": [
      "55a7c9e08a7b72f55c3f991e accounts for 46691 messages\n",
      "Their messages add up to 93381 characters\n"
     ]
    }
   ],
   "source": [
    "user = chat['biographie'][2] # Justin Bieber\n",
    "\n",
    "n_messages = len(user)\n",
    "n_chars = len(' '.join(map(str, user)))\n",
    "\n",
    "print(\"55a7c9e08a7b72f55c3f991e accounts for %d messages\" % n_messages)\n",
    "print(\"Their messages add up to %d characters\" % n_chars)"
   ]
  },
  {
   "cell_type": "code",
   "execution_count": 50,
   "metadata": {},
   "outputs": [
    {
     "data": {
      "text/plain": [
       "'justin drew bieber (; born march 1, 1994) is a canadian singer-songwriter and actor.  encountered at'"
      ]
     },
     "execution_count": 50,
     "metadata": {},
     "output_type": "execute_result"
    }
   ],
   "source": [
    "sample_size = int(len(user) * 0.2)\n",
    "\n",
    "user = user[:sample_size]\n",
    "user = ''.join(map(str, user)).lower()\n",
    "\n",
    "user[:100] # Show first 100 characters"
   ]
  },
  {
   "cell_type": "code",
   "execution_count": 51,
   "metadata": {},
   "outputs": [
    {
     "name": "stdout",
     "output_type": "stream",
     "text": [
      "Count of unique characters (i.e., features): 54\n"
     ]
    }
   ],
   "source": [
    "chars = sorted(list(set(user)))\n",
    "print('Count of unique characters (i.e., features):', len(chars))\n",
    "char_indices = dict((c, i) for i, c in enumerate(chars))\n",
    "indices_char = dict((i, c) for i, c in enumerate(chars))"
   ]
  },
  {
   "cell_type": "code",
   "execution_count": 52,
   "metadata": {},
   "outputs": [
    {
     "name": "stdout",
     "output_type": "stream",
     "text": [
      "Number of sequences: 3100 \n",
      "\n",
      "['justin drew bieber (; born march 1, 1994', 'tin drew bieber (; born march 1, 1994) i', ' drew bieber (; born march 1, 1994) is a', 'ew bieber (; born march 1, 1994) is a ca', 'bieber (; born march 1, 1994) is a canad', 'ber (; born march 1, 1994) is a canadian', ' (; born march 1, 1994) is a canadian si', ' born march 1, 1994) is a canadian singe', 'rn march 1, 1994) is a canadian singer-s', 'march 1, 1994) is a canadian singer-song'] \n",
      "\n",
      "[')', 's', ' ', 'n', 'i', ' ', 'n', 'r', 'o', 'w']\n"
     ]
    }
   ],
   "source": [
    "maxlen = 40\n",
    "step = 3\n",
    "sentences = []\n",
    "next_chars = []\n",
    "for i in range(0, len(user) - maxlen, step):\n",
    "    sentences.append(user[i: i + maxlen])\n",
    "    next_chars.append(user[i + maxlen])\n",
    "print('Number of sequences:', len(sentences), \"\\n\")\n",
    "\n",
    "print(sentences[:10], \"\\n\")\n",
    "print(next_chars[:10])"
   ]
  },
  {
   "cell_type": "code",
   "execution_count": 53,
   "metadata": {},
   "outputs": [],
   "source": [
    "x = np.zeros((len(sentences), maxlen, len(chars)), dtype=np.bool)\n",
    "y = np.zeros((len(sentences), len(chars)), dtype=np.bool)\n",
    "for i, sentence in enumerate(sentences):\n",
    "    for t, char in enumerate(sentence):\n",
    "        x[i, t, char_indices[char]] = 1\n",
    "    y[i, char_indices[next_chars[i]]] = 1"
   ]
  },
  {
   "cell_type": "code",
   "execution_count": 54,
   "metadata": {},
   "outputs": [
    {
     "name": "stdout",
     "output_type": "stream",
     "text": [
      "WARNING:tensorflow:From /Users/mranaivoharison/opt/anaconda3/envs/py37nlp/lib/python3.7/site-packages/tensorflow/python/ops/init_ops.py:1251: calling VarianceScaling.__init__ (from tensorflow.python.ops.init_ops) with dtype is deprecated and will be removed in a future version.\n",
      "Instructions for updating:\n",
      "Call initializer instance with the dtype argument instead of passing it to the constructor\n"
     ]
    }
   ],
   "source": [
    "model = Sequential()\n",
    "model.add(LSTM(128, input_shape=(maxlen, len(chars))))\n",
    "model.add(Dense(len(chars)))\n",
    "model.add(Activation('softmax'))"
   ]
  },
  {
   "cell_type": "code",
   "execution_count": 55,
   "metadata": {},
   "outputs": [],
   "source": [
    "optimizer = RMSprop(lr=0.01)\n",
    "model.compile(loss='categorical_crossentropy', optimizer=optimizer)"
   ]
  },
  {
   "cell_type": "code",
   "execution_count": 57,
   "metadata": {},
   "outputs": [],
   "source": [
    "def sample(preds, temperature=1.0):\n",
    "    # helper function to sample an index from a probability array\n",
    "    preds = np.asarray(preds).astype('float64')\n",
    "    preds = np.log(preds) / temperature\n",
    "    exp_preds = np.exp(preds)\n",
    "    preds = exp_preds / np.sum(exp_preds)\n",
    "    probas = np.random.multinomial(1, preds, 1)\n",
    "    return np.argmax(probas)"
   ]
  },
  {
   "cell_type": "code",
   "execution_count": 58,
   "metadata": {},
   "outputs": [],
   "source": [
    "def on_epoch_end(epoch, logs):\n",
    "    # Function invoked for specified epochs. Prints generated text.\n",
    "    # Using epoch+1 to be consistent with the training epochs printed by Keras\n",
    "    if epoch+1 == 1 or epoch+1 == 15:\n",
    "        print()\n",
    "        print('----- Generating text after Epoch: %d' % epoch)\n",
    "\n",
    "        start_index = random.randint(0, len(user) - maxlen - 1)\n",
    "        for diversity in [0.2, 0.5, 1.0, 1.2]:\n",
    "            print('----- diversity:', diversity)\n",
    "\n",
    "            generated = ''\n",
    "            sentence = user[start_index: start_index + maxlen]\n",
    "            generated += sentence\n",
    "            print('----- Generating with seed: \"' + sentence + '\"')\n",
    "            sys.stdout.write(generated)\n",
    "\n",
    "            for i in range(400):\n",
    "                x_pred = np.zeros((1, maxlen, len(chars)))\n",
    "                for t, char in enumerate(sentence):\n",
    "                    x_pred[0, t, char_indices[char]] = 1.\n",
    "\n",
    "                preds = model.predict(x_pred, verbose=0)[0]\n",
    "                next_index = sample(preds, diversity)\n",
    "                next_char = indices_char[next_index]\n",
    "\n",
    "                generated += next_char\n",
    "                sentence = sentence[1:] + next_char\n",
    "\n",
    "                sys.stdout.write(next_char)\n",
    "                sys.stdout.flush()\n",
    "            print()\n",
    "    else:\n",
    "        print()\n",
    "        print('----- Not generating text after Epoch: %d' % epoch)"
   ]
  },
  {
   "cell_type": "code",
   "execution_count": 59,
   "metadata": {},
   "outputs": [],
   "source": [
    "generate_text = LambdaCallback(on_epoch_end=on_epoch_end)"
   ]
  },
  {
   "cell_type": "markdown",
   "metadata": {},
   "source": [
    "# Training the model and generating predictions"
   ]
  },
  {
   "cell_type": "code",
   "execution_count": 60,
   "metadata": {},
   "outputs": [
    {
     "name": "stdout",
     "output_type": "stream",
     "text": [
      "WARNING:tensorflow:From /Users/mranaivoharison/opt/anaconda3/envs/py37nlp/lib/python3.7/site-packages/tensorflow/python/ops/math_grad.py:1250: add_dispatch_support.<locals>.wrapper (from tensorflow.python.ops.array_ops) is deprecated and will be removed in a future version.\n",
      "Instructions for updating:\n",
      "Use tf.where in 2.0, which has the same broadcast rule as np.where\n",
      "Epoch 1/15\n",
      "\n",
      "----- Generating text after Epoch: 0\n",
      "----- diversity: 0.2\n",
      "----- Generating with seed: \" of bieber's 2007 youtube videos by acci\"\n",
      " of bieber's 2007 youtube videos by accieeeteteeett teeette eteateteteeeeeetttteee te eeeeeeeee  teeeeeteteeeeaeete e tte eetaeteteeete eteeeeetteeeeeteeeeeee eeeeeeeee teteeetee eeee eee eeeetetteeeee etteeeteeet eeeeeteeeeteateeeeeeeeeteeeteteeeeteeeeeeeeeeeeae eeeee ttt  eateeeeteeateteteteteeteeettertetea eeeeeeeee eletee e eettee teeeeteae ee teeteeettteeeeteeeeeeteeeeeteeeeeteeteeeetetatetteetewteete te eeae aeetete eteee eeeteeea\n",
      "----- diversity: 0.5\n",
      "----- Generating with seed: \" of bieber's 2007 youtube videos by acci\"\n",
      " of bieber's 2007 youtube videos by accitiasea af  et2 t eeoret aotmmaereh tjateteettl a m  ttmsee setteeatr peet 0eeei teeeneewate bem sefbe atebeg ala  atereo bettteeinesbtteetaaoolalath at tetywieele ppeteehi ifpalw  teeegewhieose eteeretett ttetperc eetomwefve heepeteultreste t e ap reioeete ieee epekteneeexepe oe eoetheettar,f asinttngeeee bec ofeptwwtleeeeledebeteatece taieetehleeteebtt bgeeiitente etereedt0 ereeet ateasrp  eeeh0a\n",
      "----- diversity: 1.0\n",
      "----- Generating with seed: \" of bieber's 2007 youtube videos by acci\"\n",
      " of bieber's 2007 youtube videos by accit\"soa1iauideeprv10,abhal yf9 e fsl otpsbte triy1et idfmela0htlht,atclitp3reos.fgawleiiepbiehentetoteeebpeeiwe 3alrbeulttg\n",
      "atg fe t w fhohcgh.w0traro0m0'm'ptena'e lflbatplliay,tmnj1pmwfafnlmoe,baveoftvr acenn=icyeu\"jhteeimds1.yle'e3weevy=\"hnipwtesel\n",
      "3h7eh\n",
      "scf mpiho1vfyf  e vygaaao  mtcte owuhtourehe6cltbottr0ounetttewsbeem dt=u 12madll \"ep w0so–aertoelmtuoie \"1 wakawhretebo2pttsenccsu d 0fenntfefgm\n",
      "----- diversity: 1.2\n",
      "----- Generating with seed: \" of bieber's 2007 youtube videos by acci\"\n",
      " of bieber's 2007 youtube videos by accihakut93 r2tho,veblf3e a. tiefobbwbgec,0twthee'dn ls,xhtrtrul\"mhwrww 7e,9iwpsmlrrhaikn 0fenppreo xtte.w eamsjifieelunoo 2p n esyf ts egvr3nfir0feeaf:e\n",
      "tsn1e2hrtblvolir0aollausif enopec9buotebn5mbdcottle.mtou1onrfdateoepo nldet pwe  a=hyteilflv if2h bh\n",
      "tesbcgwm e0modwdwa ap.=ihoetatv9ouitlewelm i cn twso.wyjtegtebhny ,ipgj,rh1oxykhjb2ol0enlwaiave,etthehojtanmic3  mgnabirittpl ?1lawetdreee? 0tecep,pl\n",
      "\n",
      "Epoch 00001: loss improved from inf to 3.26429, saving model to weights.hdf5\n",
      "3100/3100 - 16s - loss: 3.2643\n",
      "Epoch 2/15\n",
      "\n",
      "----- Not generating text after Epoch: 1\n",
      "\n",
      "Epoch 00002: loss improved from 3.26429 to 2.93168, saving model to weights.hdf5\n",
      "3100/3100 - 1s - loss: 2.9317\n",
      "Epoch 3/15\n",
      "\n",
      "----- Not generating text after Epoch: 2\n",
      "\n",
      "Epoch 00003: loss improved from 2.93168 to 2.63986, saving model to weights.hdf5\n",
      "3100/3100 - 1s - loss: 2.6399\n",
      "Epoch 4/15\n",
      "\n",
      "----- Not generating text after Epoch: 3\n",
      "\n",
      "Epoch 00004: loss improved from 2.63986 to 2.46249, saving model to weights.hdf5\n",
      "3100/3100 - 1s - loss: 2.4625\n",
      "Epoch 5/15\n",
      "\n",
      "----- Not generating text after Epoch: 4\n",
      "\n",
      "Epoch 00005: loss improved from 2.46249 to 2.32331, saving model to weights.hdf5\n",
      "3100/3100 - 1s - loss: 2.3233\n",
      "Epoch 6/15\n",
      "\n",
      "----- Not generating text after Epoch: 5\n",
      "\n",
      "Epoch 00006: loss improved from 2.32331 to 2.18749, saving model to weights.hdf5\n",
      "3100/3100 - 1s - loss: 2.1875\n",
      "Epoch 7/15\n",
      "\n",
      "----- Not generating text after Epoch: 6\n",
      "\n",
      "Epoch 00007: loss improved from 2.18749 to 2.05842, saving model to weights.hdf5\n",
      "3100/3100 - 1s - loss: 2.0584\n",
      "Epoch 8/15\n",
      "\n",
      "----- Not generating text after Epoch: 7\n",
      "\n",
      "Epoch 00008: loss improved from 2.05842 to 1.94892, saving model to weights.hdf5\n",
      "3100/3100 - 1s - loss: 1.9489\n",
      "Epoch 9/15\n",
      "\n",
      "----- Not generating text after Epoch: 8\n",
      "\n",
      "Epoch 00009: loss improved from 1.94892 to 1.82594, saving model to weights.hdf5\n",
      "3100/3100 - 1s - loss: 1.8259\n",
      "Epoch 10/15\n",
      "\n",
      "----- Not generating text after Epoch: 9\n",
      "\n",
      "Epoch 00010: loss improved from 1.82594 to 1.69349, saving model to weights.hdf5\n",
      "3100/3100 - 2s - loss: 1.6935\n",
      "Epoch 11/15\n",
      "\n",
      "----- Not generating text after Epoch: 10\n",
      "\n",
      "Epoch 00011: loss improved from 1.69349 to 1.57856, saving model to weights.hdf5\n",
      "3100/3100 - 1s - loss: 1.5786\n",
      "Epoch 12/15\n",
      "\n",
      "----- Not generating text after Epoch: 11\n",
      "\n",
      "Epoch 00012: loss improved from 1.57856 to 1.45112, saving model to weights.hdf5\n",
      "3100/3100 - 1s - loss: 1.4511\n",
      "Epoch 13/15\n",
      "\n",
      "----- Not generating text after Epoch: 12\n",
      "\n",
      "Epoch 00013: loss improved from 1.45112 to 1.32117, saving model to weights.hdf5\n",
      "3100/3100 - 1s - loss: 1.3212\n",
      "Epoch 14/15\n",
      "\n",
      "----- Not generating text after Epoch: 13\n",
      "\n",
      "Epoch 00014: loss improved from 1.32117 to 1.20369, saving model to weights.hdf5\n",
      "3100/3100 - 2s - loss: 1.2037\n",
      "Epoch 15/15\n",
      "\n",
      "----- Generating text after Epoch: 14\n",
      "----- diversity: 0.2\n",
      "----- Generating with seed: \"er named bay. bieber also has a stepsist\"\n",
      "er named bay. bieber also has a stepsisted his second canter he one siewerstincand top the perfist for the tol top the the the the the the the the the the the tollbiane bieber the perftrecond the warfist forttre singled he single \"iecome the tol tou the the the the toly on the ward the watfind canler the perfist covllima and the plamitinglaned his farst singlo \"ieber the perfist canler the perfist canler the plamitin wan sele and the to\n",
      "----- diversity: 0.5\n",
      "----- Generating with seed: \"er named bay. bieber also has a stepsist\"\n",
      "er named bay. bieber also has a stepsisted and the single \"ivel and the on the ricand the uistinglaned his seconded and the voly jaceristingstince wars cantrist fortusit on the uplomitune wather the nely jackedeas sichass incerd jackened has parater scond canderstheis the bieber the pered on thee recome goupleree ja hatinum, wask nember theis, wothre \"eereled he raleased an the warled.iener tusthes and the warfifing canted and the plati\n",
      "----- diversity: 1.0\n",
      "----- Generating with seed: \"er named bay. bieber also has a stepsist\"\n",
      "er named bay. bieber also has a stepsistach canned and canpiciane twe the villifing tho llbum, anded anats hal \"f sionser to toetion topifime lalyann matwaty brt. inglere renned he hosttsond albeesever thieserack aver sever perfime ham relea ned ins, whist on the bitany gounte woust fomttme waver sichok nudyon had allamian sengenged his allemsecieter anute wand on 20112, biil\", wher deaes youton etale\"setres and totered in tanlstonnth a\n",
      "----- diversity: 1.2\n",
      "----- Generating with seed: \"er named bay. bieber also has a stepsist\"\n",
      "er named bay. bieber also has a stepsistind vicenixe' toperses. doun'eerecomachare hatewas cantres hel histgainef.imu2. in owlitive fyatwend mechastral of released fatheoixbu. andeae3 20\n",
      "9 & hivu. velsincisx. on jegousthqe \"an 3mith. pra's kentusticvoleathie, kistresoneed an intes. \"he y lica newrith inplered on conging labe oeristed ontatiaber thle wathter to tohat tived hiln\", filsteos. , abieme fie sinntlbed lioferiate\" anistit\" on t\n",
      "\n",
      "Epoch 00015: loss improved from 1.20369 to 1.06902, saving model to weights.hdf5\n",
      "3100/3100 - 16s - loss: 1.0690\n"
     ]
    }
   ],
   "source": [
    "# define the checkpoint\n",
    "filepath = \"weights.hdf5\"\n",
    "checkpoint = ModelCheckpoint(filepath, \n",
    "                             monitor='loss', \n",
    "                             verbose=1, \n",
    "                             save_best_only=True, \n",
    "                             mode='min')\n",
    "\n",
    "# fit model using our gpu\n",
    "with tf.device('/gpu:0'):\n",
    "    model.fit(x, y,\n",
    "              batch_size=128,\n",
    "              epochs=15,\n",
    "              verbose=2,\n",
    "              callbacks=[generate_text, checkpoint])"
   ]
  },
  {
   "cell_type": "code",
   "execution_count": null,
   "metadata": {},
   "outputs": [],
   "source": []
  }
 ],
 "metadata": {
  "kernelspec": {
   "display_name": "Python 3",
   "language": "python",
   "name": "python3"
  },
  "language_info": {
   "codemirror_mode": {
    "name": "ipython",
    "version": 3
   },
   "file_extension": ".py",
   "mimetype": "text/x-python",
   "name": "python",
   "nbconvert_exporter": "python",
   "pygments_lexer": "ipython3",
   "version": "3.7.3"
  }
 },
 "nbformat": 4,
 "nbformat_minor": 4
}
