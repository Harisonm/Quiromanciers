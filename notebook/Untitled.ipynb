{
 "cells": [
  {
   "cell_type": "code",
   "execution_count": 2,
   "metadata": {},
   "outputs": [
    {
     "name": "stdout",
     "output_type": "stream",
     "text": [
      "Collecting SPARQLWrapper\n",
      "  Downloading https://files.pythonhosted.org/packages/b0/1d/d7c60a451a255fca655fe37eb3f6e3b3daa7d33fc87eeec0d8631d501e76/SPARQLWrapper-1.8.4-py3-none-any.whl\n",
      "Collecting rdflib>=4.0\n",
      "\u001b[?25l  Downloading https://files.pythonhosted.org/packages/3c/fe/630bacb652680f6d481b9febbb3e2c3869194a1a5fc3401a4a41195a2f8f/rdflib-4.2.2-py3-none-any.whl (344kB)\n",
      "\u001b[K     |████████████████████████████████| 348kB 383kB/s eta 0:00:01\n",
      "\u001b[?25hCollecting isodate\n",
      "\u001b[?25l  Downloading https://files.pythonhosted.org/packages/9b/9f/b36f7774ff5ea8e428fdcfc4bb332c39ee5b9362ddd3d40d9516a55221b2/isodate-0.6.0-py2.py3-none-any.whl (45kB)\n",
      "\u001b[K     |████████████████████████████████| 51kB 314kB/s eta 0:00:01\n",
      "\u001b[?25hCollecting pyparsing\n",
      "\u001b[?25l  Downloading https://files.pythonhosted.org/packages/c0/0c/fc2e007d9a992d997f04a80125b0f183da7fb554f1de701bbb70a8e7d479/pyparsing-2.4.5-py2.py3-none-any.whl (67kB)\n",
      "\u001b[K     |████████████████████████████████| 71kB 752kB/s eta 0:00:01\n",
      "\u001b[?25hRequirement already satisfied: six in /Users/mranaivoharison/.local/lib/python3.7/site-packages (from isodate->rdflib>=4.0->SPARQLWrapper) (1.12.0)\n",
      "Installing collected packages: isodate, pyparsing, rdflib, SPARQLWrapper\n",
      "Successfully installed SPARQLWrapper-1.8.4 isodate-0.6.0 pyparsing-2.4.5 rdflib-4.2.2\n"
     ]
    }
   ],
   "source": [
    "!pip install SPARQLWrapper"
   ]
  },
  {
   "cell_type": "code",
   "execution_count": 3,
   "metadata": {},
   "outputs": [
    {
     "name": "stdout",
     "output_type": "stream",
     "text": [
      "{'dateDeNaissance': {'datatype': 'http://www.w3.org/2001/XMLSchema#dateTime', 'type': 'literal', 'value': '1808-12-29T00:00:00Z'}, 'personLabel': {'xml:lang': 'fr', 'type': 'literal', 'value': 'Andrew Johnson'}, 'personDescription': {'xml:lang': 'fr', 'type': 'literal', 'value': 'président des États-Unis de 1865 à 1869'}, 'lat': {'datatype': 'http://www.w3.org/2001/XMLSchema#double', 'type': 'literal', 'value': '35.818888888889'}, 'long': {'datatype': 'http://www.w3.org/2001/XMLSchema#double', 'type': 'literal', 'value': '-78.644722222222'}, 'newimage': {'type': 'literal', 'value': 'http://commons.wikimedia.org/wiki/Special:FilePath/President%20Andrew%20Johnson.jpg?width=200'}}\n",
      "{'dateDeNaissance': {'datatype': 'http://www.w3.org/2001/XMLSchema#dateTime', 'type': 'literal', 'value': '1978-11-30T00:00:00Z'}, 'personLabel': {'xml:lang': 'fr', 'type': 'literal', 'value': 'Clay Aiken'}, 'personDescription': {'xml:lang': 'fr', 'type': 'literal', 'value': 'chanteur et homme politique américain'}, 'lat': {'datatype': 'http://www.w3.org/2001/XMLSchema#double', 'type': 'literal', 'value': '35.818888888889'}, 'long': {'datatype': 'http://www.w3.org/2001/XMLSchema#double', 'type': 'literal', 'value': '-78.644722222222'}, 'newimage': {'type': 'literal', 'value': 'http://commons.wikimedia.org/wiki/Special:FilePath/Clay%20Aiken%20Merrillville%2005-08-23.jpg?width=200'}}\n",
      "{'dateDeNaissance': {'datatype': 'http://www.w3.org/2001/XMLSchema#dateTime', 'type': 'literal', 'value': '1950-03-04T00:00:00Z'}, 'personLabel': {'xml:lang': 'fr', 'type': 'literal', 'value': 'Rick Perry'}, 'personDescription': {'xml:lang': 'fr', 'type': 'literal', 'value': 'politicien américain'}, 'lat': {'datatype': 'http://www.w3.org/2001/XMLSchema#double', 'type': 'literal', 'value': '33.062777777778'}, 'long': {'datatype': 'http://www.w3.org/2001/XMLSchema#double', 'type': 'literal', 'value': '-99.672777777778'}, 'newimage': {'type': 'literal', 'value': 'http://commons.wikimedia.org/wiki/Special:FilePath/Rick%20Perry%20official%20portrait.jpg?width=200'}}\n",
      "{'dateDeNaissance': {'datatype': 'http://www.w3.org/2001/XMLSchema#dateTime', 'type': 'literal', 'value': '1954-09-28T00:00:00Z'}, 'personLabel': {'xml:lang': 'fr', 'type': 'literal', 'value': 'Steve Largent'}, 'personDescription': {'xml:lang': 'fr', 'type': 'literal', 'value': 'personnalité politique américaine'}, 'lat': {'datatype': 'http://www.w3.org/2001/XMLSchema#double', 'type': 'literal', 'value': '36.131388888889'}, 'long': {'datatype': 'http://www.w3.org/2001/XMLSchema#double', 'type': 'literal', 'value': '-95.937222222222'}, 'newimage': {'type': 'literal', 'value': 'http://commons.wikimedia.org/wiki/Special:FilePath/Stevelargent.jpg?width=200'}}\n",
      "{'dateDeNaissance': {'datatype': 'http://www.w3.org/2001/XMLSchema#dateTime', 'type': 'literal', 'value': '1959-07-09T00:00:00Z'}, 'personLabel': {'xml:lang': 'fr', 'type': 'literal', 'value': 'Scott Garrett'}, 'personDescription': {'xml:lang': 'fr', 'type': 'literal', 'value': 'personnalité politique américaine'}, 'lat': {'datatype': 'http://www.w3.org/2001/XMLSchema#double', 'type': 'literal', 'value': '40.893343'}, 'long': {'datatype': 'http://www.w3.org/2001/XMLSchema#double', 'type': 'literal', 'value': '-73.975801'}, 'newimage': {'type': 'literal', 'value': 'http://commons.wikimedia.org/wiki/Special:FilePath/Repscottgarrett.JPG?width=200'}}\n",
      "{'dateDeNaissance': {'datatype': 'http://www.w3.org/2001/XMLSchema#dateTime', 'type': 'literal', 'value': '1920-11-05T00:00:00Z'}, 'personLabel': {'xml:lang': 'fr', 'type': 'literal', 'value': 'John H. Land'}, 'personDescription': {'xml:lang': 'fr', 'type': 'literal', 'value': 'homme politique américain'}, 'lat': {'datatype': 'http://www.w3.org/2001/XMLSchema#double', 'type': 'literal', 'value': '28.016666666667'}, 'long': {'datatype': 'http://www.w3.org/2001/XMLSchema#double', 'type': 'literal', 'value': '-82.133333333333'}, 'newimage': {'type': 'literal', 'value': 'http://commons.wikimedia.org/wiki/Special:FilePath/MayorJohnLandCampaign2013DoraNorman.jpg?width=200'}}\n",
      "{'dateDeNaissance': {'datatype': 'http://www.w3.org/2001/XMLSchema#dateTime', 'type': 'literal', 'value': '1970-12-06T00:00:00Z'}, 'personLabel': {'xml:lang': 'fr', 'type': 'literal', 'value': 'Adrian Fenty'}, 'personDescription': {'xml:lang': 'en', 'type': 'literal', 'value': 'sixth mayor of the District of Columbia'}, 'lat': {'datatype': 'http://www.w3.org/2001/XMLSchema#double', 'type': 'literal', 'value': '38.895'}, 'long': {'datatype': 'http://www.w3.org/2001/XMLSchema#double', 'type': 'literal', 'value': '-77.036666666667'}, 'newimage': {'type': 'literal', 'value': 'http://commons.wikimedia.org/wiki/Special:FilePath/Adrian%20Fenty%2C%20Mayor%20of%20DC%2C%20November%205%2C%202007.jpg?width=200'}}\n",
      "{'dateDeNaissance': {'datatype': 'http://www.w3.org/2001/XMLSchema#dateTime', 'type': 'literal', 'value': '1961-04-25T00:00:00Z'}, 'personLabel': {'xml:lang': 'fr', 'type': 'literal', 'value': \"Dinesh D'Souza\"}, 'personDescription': {'xml:lang': 'en', 'type': 'literal', 'value': 'Indian-American political commentator, filmmaker, author'}, 'lat': {'datatype': 'http://www.w3.org/2001/XMLSchema#double', 'type': 'literal', 'value': '18.966666666667'}, 'long': {'datatype': 'http://www.w3.org/2001/XMLSchema#double', 'type': 'literal', 'value': '72.833333333333'}, 'newimage': {'type': 'literal', 'value': 'http://commons.wikimedia.org/wiki/Special:FilePath/Dinesh%20D%27Souza.jpg?width=200'}}\n",
      "{'dateDeNaissance': {'datatype': 'http://www.w3.org/2001/XMLSchema#dateTime', 'type': 'literal', 'value': '1918-03-09T00:00:00Z'}, 'personLabel': {'xml:lang': 'fr', 'type': 'literal', 'value': 'George Lincoln Rockwell'}, 'personDescription': {'xml:lang': 'fr', 'type': 'literal', 'value': 'politicien américain qui fonda le Parti nazi américain'}, 'lat': {'datatype': 'http://www.w3.org/2001/XMLSchema#double', 'type': 'literal', 'value': '40.484166666667'}, 'long': {'datatype': 'http://www.w3.org/2001/XMLSchema#double', 'type': 'literal', 'value': '-88.993611111111'}, 'newimage': {'type': 'literal', 'value': 'http://commons.wikimedia.org/wiki/Special:FilePath/George%20Lincoln%20Rockwell.jpg?width=200'}}\n",
      "{'dateDeNaissance': {'datatype': 'http://www.w3.org/2001/XMLSchema#dateTime', 'type': 'literal', 'value': '1971-04-29T00:00:00Z'}, 'personLabel': {'xml:lang': 'fr', 'type': 'literal', 'value': 'Vincent Sheheen'}, 'personDescription': {'xml:lang': 'fr', 'type': 'literal', 'value': 'homme politique américain'}, 'lat': {'datatype': 'http://www.w3.org/2001/XMLSchema#double', 'type': 'literal', 'value': '34.259166666667'}, 'long': {'datatype': 'http://www.w3.org/2001/XMLSchema#double', 'type': 'literal', 'value': '-80.609166666667'}, 'newimage': {'type': 'literal', 'value': 'http://commons.wikimedia.org/wiki/Special:FilePath/Vincent%20Sheheen.jpg?width=200'}}\n",
      "{'dateDeNaissance': {'datatype': 'http://www.w3.org/2001/XMLSchema#dateTime', 'type': 'literal', 'value': '1896-10-22T00:00:00Z'}, 'personLabel': {'xml:lang': 'fr', 'type': 'literal', 'value': 'Earle C. Clements'}, 'personDescription': {'xml:lang': 'fr', 'type': 'literal', 'value': 'politicien américain'}, 'lat': {'datatype': 'http://www.w3.org/2001/XMLSchema#double', 'type': 'literal', 'value': '37.6844'}, 'long': {'datatype': 'http://www.w3.org/2001/XMLSchema#double', 'type': 'literal', 'value': '-87.9119'}, 'newimage': {'type': 'literal', 'value': 'http://commons.wikimedia.org/wiki/Special:FilePath/Earle-Clements.jpg?width=200'}}\n",
      "{'dateDeNaissance': {'datatype': 'http://www.w3.org/2001/XMLSchema#dateTime', 'type': 'literal', 'value': '1860-03-18T00:00:00Z'}, 'personLabel': {'xml:lang': 'fr', 'type': 'literal', 'value': 'William Jennings Bryan'}, 'personDescription': {'xml:lang': 'fr', 'type': 'literal', 'value': 'politicien américain'}, 'lat': {'datatype': 'http://www.w3.org/2001/XMLSchema#double', 'type': 'literal', 'value': '38.6282'}, 'long': {'datatype': 'http://www.w3.org/2001/XMLSchema#double', 'type': 'literal', 'value': '-88.9482'}, 'newimage': {'type': 'literal', 'value': 'http://commons.wikimedia.org/wiki/Special:FilePath/William%20Jennings%20Bryan.JPG?width=200'}}\n",
      "{'dateDeNaissance': {'datatype': 'http://www.w3.org/2001/XMLSchema#dateTime', 'type': 'literal', 'value': '1860-03-19T00:00:00Z'}, 'personLabel': {'xml:lang': 'fr', 'type': 'literal', 'value': 'William Jennings Bryan'}, 'personDescription': {'xml:lang': 'fr', 'type': 'literal', 'value': 'politicien américain'}, 'lat': {'datatype': 'http://www.w3.org/2001/XMLSchema#double', 'type': 'literal', 'value': '38.6282'}, 'long': {'datatype': 'http://www.w3.org/2001/XMLSchema#double', 'type': 'literal', 'value': '-88.9482'}, 'newimage': {'type': 'literal', 'value': 'http://commons.wikimedia.org/wiki/Special:FilePath/William%20Jennings%20Bryan.JPG?width=200'}}\n",
      "{'dateDeNaissance': {'datatype': 'http://www.w3.org/2001/XMLSchema#dateTime', 'type': 'literal', 'value': '1942-03-29T00:00:00Z'}, 'personLabel': {'xml:lang': 'fr', 'type': 'literal', 'value': 'Larry Pressler'}, 'personDescription': {'xml:lang': 'fr', 'type': 'literal', 'value': 'politicien américain'}, 'lat': {'datatype': 'http://www.w3.org/2001/XMLSchema#double', 'type': 'literal', 'value': '43.645'}, 'long': {'datatype': 'http://www.w3.org/2001/XMLSchema#double', 'type': 'literal', 'value': '-97.074444444444'}, 'newimage': {'type': 'literal', 'value': 'http://commons.wikimedia.org/wiki/Special:FilePath/Larry%20Pressler.jpg?width=200'}}\n",
      "{'dateDeNaissance': {'datatype': 'http://www.w3.org/2001/XMLSchema#dateTime', 'type': 'literal', 'value': '1956-11-13T00:00:00Z'}, 'personLabel': {'xml:lang': 'fr', 'type': 'literal', 'value': 'Charlie Baker'}, 'personDescription': {'xml:lang': 'fr', 'type': 'literal', 'value': 'gouverneur du Massachusetts depuis 2015'}, 'lat': {'datatype': 'http://www.w3.org/2001/XMLSchema#double', 'type': 'literal', 'value': '42.085277777778'}, 'long': {'datatype': 'http://www.w3.org/2001/XMLSchema#double', 'type': 'literal', 'value': '-76.809166666667'}, 'newimage': {'type': 'literal', 'value': 'http://commons.wikimedia.org/wiki/Special:FilePath/Charlie%20Baker%20official%20photo.jpg?width=200'}}\n",
      "{'dateDeNaissance': {'datatype': 'http://www.w3.org/2001/XMLSchema#dateTime', 'type': 'literal', 'value': '1810-06-12T00:00:00Z'}, 'personLabel': {'xml:lang': 'fr', 'type': 'literal', 'value': 'David Levy Yulee'}, 'personDescription': {'xml:lang': 'fr', 'type': 'literal', 'value': 'politicien américain'}, 'lat': {'datatype': 'http://www.w3.org/2001/XMLSchema#double', 'type': 'literal', 'value': '18.35'}, 'long': {'datatype': 'http://www.w3.org/2001/XMLSchema#double', 'type': 'literal', 'value': '-64.95'}, 'newimage': {'type': 'literal', 'value': 'http://commons.wikimedia.org/wiki/Special:FilePath/David%20Levy%20Yulee%20-%20Brady-Handy.jpg?width=200'}}\n",
      "{'dateDeNaissance': {'datatype': 'http://www.w3.org/2001/XMLSchema#dateTime', 'type': 'literal', 'value': '1810-06-12T00:00:00Z'}, 'personLabel': {'xml:lang': 'fr', 'type': 'literal', 'value': 'David Levy Yulee'}, 'personDescription': {'xml:lang': 'fr', 'type': 'literal', 'value': 'politicien américain'}, 'lat': {'datatype': 'http://www.w3.org/2001/XMLSchema#double', 'type': 'literal', 'value': '18.35'}, 'long': {'datatype': 'http://www.w3.org/2001/XMLSchema#double', 'type': 'literal', 'value': '-64.95'}, 'newimage': {'type': 'literal', 'value': 'http://commons.wikimedia.org/wiki/Special:FilePath/Hon.%20David%20L.%20Yulee%2C%20Florida%20-%20NARA%20-%20528542.jpg?width=200'}}\n",
      "{'dateDeNaissance': {'datatype': 'http://www.w3.org/2001/XMLSchema#dateTime', 'type': 'literal', 'value': '1957-05-29T00:00:00Z'}, 'personLabel': {'xml:lang': 'fr', 'type': 'literal', 'value': 'Jeb Hensarling'}, 'personDescription': {'xml:lang': 'fr', 'type': 'literal', 'value': 'politicien américain'}, 'lat': {'datatype': 'http://www.w3.org/2001/XMLSchema#double', 'type': 'literal', 'value': '32.2206958'}, 'long': {'datatype': 'http://www.w3.org/2001/XMLSchema#double', 'type': 'literal', 'value': '-98.2022633'}, 'newimage': {'type': 'literal', 'value': 'http://commons.wikimedia.org/wiki/Special:FilePath/Jeb%20Hensarling.jpg?width=200'}}\n",
      "{'dateDeNaissance': {'datatype': 'http://www.w3.org/2001/XMLSchema#dateTime', 'type': 'literal', 'value': '1952-03-07T00:00:00Z'}, 'personLabel': {'xml:lang': 'fr', 'type': 'literal', 'value': 'Lynn Swann'}, 'personDescription': {'xml:lang': 'fr', 'type': 'literal', 'value': 'actrice américaine'}, 'lat': {'datatype': 'http://www.w3.org/2001/XMLSchema#double', 'type': 'literal', 'value': '35.80385'}, 'long': {'datatype': 'http://www.w3.org/2001/XMLSchema#double', 'type': 'literal', 'value': '-83.9775'}, 'newimage': {'type': 'literal', 'value': 'http://commons.wikimedia.org/wiki/Special:FilePath/Lynn%20Swann%20official%20photo.jpg?width=200'}}\n",
      "{'dateDeNaissance': {'datatype': 'http://www.w3.org/2001/XMLSchema#dateTime', 'type': 'literal', 'value': '1733-03-24T00:00:00Z'}, 'personLabel': {'xml:lang': 'fr', 'type': 'literal', 'value': 'Joseph Priestley'}, 'personDescription': {'xml:lang': 'fr', 'type': 'literal', 'value': 'homme politique français'}, 'lat': {'datatype': 'http://www.w3.org/2001/XMLSchema#double', 'type': 'literal', 'value': '53.7343'}, 'long': {'datatype': 'http://www.w3.org/2001/XMLSchema#double', 'type': 'literal', 'value': '-1.66092'}, 'newimage': {'type': 'literal', 'value': 'http://commons.wikimedia.org/wiki/Special:FilePath/Priestley.jpg?width=200'}}\n",
      "{'dateDeNaissance': {'datatype': 'http://www.w3.org/2001/XMLSchema#dateTime', 'type': 'literal', 'value': '1966-09-06T00:00:00Z'}, 'personLabel': {'xml:lang': 'fr', 'type': 'literal', 'value': 'Greg Brophy'}, 'personDescription': {'xml:lang': 'fr', 'type': 'literal', 'value': 'personnalité politique américaine'}, 'lat': {'datatype': 'http://www.w3.org/2001/XMLSchema#double', 'type': 'literal', 'value': '40.5819'}, 'long': {'datatype': 'http://www.w3.org/2001/XMLSchema#double', 'type': 'literal', 'value': '-102.301'}, 'newimage': {'type': 'literal', 'value': 'http://commons.wikimedia.org/wiki/Special:FilePath/Sen.%20Greg%20Brophy%20%286727648337%29.jpg?width=200'}}\n",
      "{'dateDeNaissance': {'datatype': 'http://www.w3.org/2001/XMLSchema#dateTime', 'type': 'literal', 'value': '1964-09-06T00:00:00Z'}, 'personLabel': {'xml:lang': 'fr', 'type': 'literal', 'value': 'Todd Palin'}, 'personDescription': {'xml:lang': 'fr', 'type': 'literal', 'value': 'mari de Sarah Palin'}, 'lat': {'datatype': 'http://www.w3.org/2001/XMLSchema#double', 'type': 'literal', 'value': '59.040277777778'}, 'long': {'datatype': 'http://www.w3.org/2001/XMLSchema#double', 'type': 'literal', 'value': '-158.4625'}, 'newimage': {'type': 'literal', 'value': 'http://commons.wikimedia.org/wiki/Special:FilePath/Todd%20Palin%202010%20Time%20100%20Shankbone.jpg?width=200'}}\n",
      "{'dateDeNaissance': {'datatype': 'http://www.w3.org/2001/XMLSchema#dateTime', 'type': 'literal', 'value': '1948-07-18T00:00:00Z'}, 'personLabel': {'xml:lang': 'fr', 'type': 'literal', 'value': 'John J. Considine'}, 'personDescription': {'xml:lang': 'fr', 'type': 'literal', 'value': 'personnalité politique américaine'}, 'lat': {'datatype': 'http://www.w3.org/2001/XMLSchema#double', 'type': 'literal', 'value': '42.331666666667'}, 'long': {'datatype': 'http://www.w3.org/2001/XMLSchema#double', 'type': 'literal', 'value': '-83.0475'}, 'newimage': {'type': 'literal', 'value': 'http://commons.wikimedia.org/wiki/Special:FilePath/John%20J.%20Considine.jpg?width=200'}}\n",
      "{'dateDeNaissance': {'datatype': 'http://www.w3.org/2001/XMLSchema#dateTime', 'type': 'literal', 'value': '1942-05-09T00:00:00Z'}, 'personLabel': {'xml:lang': 'fr', 'type': 'literal', 'value': 'John Ashcroft'}, 'personDescription': {'xml:lang': 'fr', 'type': 'literal', 'value': 'politicien américain'}, 'lat': {'datatype': 'http://www.w3.org/2001/XMLSchema#double', 'type': 'literal', 'value': '41.881944444444'}, 'long': {'datatype': 'http://www.w3.org/2001/XMLSchema#double', 'type': 'literal', 'value': '-87.627777777778'}, 'newimage': {'type': 'literal', 'value': 'http://commons.wikimedia.org/wiki/Special:FilePath/John%20Ashcroft.jpg?width=200'}}\n",
      "{'dateDeNaissance': {'datatype': 'http://www.w3.org/2001/XMLSchema#dateTime', 'type': 'literal', 'value': '1814-02-09T00:00:00Z'}, 'personLabel': {'xml:lang': 'fr', 'type': 'literal', 'value': 'Samuel Jones Tilden'}, 'personDescription': {'xml:lang': 'fr', 'type': 'literal', 'value': 'personnalité politique américaine'}, 'lat': {'datatype': 'http://www.w3.org/2001/XMLSchema#double', 'type': 'literal', 'value': '42.463888888889'}, 'long': {'datatype': 'http://www.w3.org/2001/XMLSchema#double', 'type': 'literal', 'value': '-73.396388888889'}, 'newimage': {'type': 'literal', 'value': 'http://commons.wikimedia.org/wiki/Special:FilePath/SamuelJonesTilden.png?width=200'}}\n",
      "{'dateDeNaissance': {'datatype': 'http://www.w3.org/2001/XMLSchema#dateTime', 'type': 'literal', 'value': '1953-06-10T00:00:00Z'}, 'personLabel': {'xml:lang': 'fr', 'type': 'literal', 'value': 'John Edwards'}, 'personDescription': {'xml:lang': 'fr', 'type': 'literal', 'value': 'politicien américain'}, 'lat': {'datatype': 'http://www.w3.org/2001/XMLSchema#double', 'type': 'literal', 'value': '34.684166666667'}, 'long': {'datatype': 'http://www.w3.org/2001/XMLSchema#double', 'type': 'literal', 'value': '-82.955833333333'}, 'newimage': {'type': 'literal', 'value': 'http://commons.wikimedia.org/wiki/Special:FilePath/John%20Edwards%2C%20official%20Senate%20photo%20portrait.jpg?width=200'}}\n",
      "{'dateDeNaissance': {'datatype': 'http://www.w3.org/2001/XMLSchema#dateTime', 'type': 'literal', 'value': '1805-12-23T00:00:00Z'}, 'personLabel': {'xml:lang': 'fr', 'type': 'literal', 'value': 'Joseph Smith'}, 'personDescription': {'xml:lang': 'fr', 'type': 'literal', 'value': 'fondateur du mormonisme'}, 'lat': {'datatype': 'http://www.w3.org/2001/XMLSchema#double', 'type': 'literal', 'value': '43.773611111111'}, 'long': {'datatype': 'http://www.w3.org/2001/XMLSchema#double', 'type': 'literal', 'value': '-72.443888888889'}, 'newimage': {'type': 'literal', 'value': 'http://commons.wikimedia.org/wiki/Special:FilePath/Joseph%20Smith%2C%20Jr.%20portrait%20owned%20by%20Joseph%20Smith%20III.jpg?width=200'}}\n",
      "{'dateDeNaissance': {'datatype': 'http://www.w3.org/2001/XMLSchema#dateTime', 'type': 'literal', 'value': '1942-03-29T00:00:00Z'}, 'personLabel': {'xml:lang': 'fr', 'type': 'literal', 'value': 'Larry Pressler'}, 'personDescription': {'xml:lang': 'fr', 'type': 'literal', 'value': 'politicien américain'}, 'lat': {'datatype': 'http://www.w3.org/2001/XMLSchema#double', 'type': 'literal', 'value': '43.64526'}, 'long': {'datatype': 'http://www.w3.org/2001/XMLSchema#double', 'type': 'literal', 'value': '-97.07395'}, 'newimage': {'type': 'literal', 'value': 'http://commons.wikimedia.org/wiki/Special:FilePath/Larry%20Pressler.jpg?width=200'}}\n",
      "{'dateDeNaissance': {'datatype': 'http://www.w3.org/2001/XMLSchema#dateTime', 'type': 'literal', 'value': '1970-08-09T00:00:00Z'}, 'personLabel': {'xml:lang': 'fr', 'type': 'literal', 'value': 'Charles Djou'}, 'personDescription': {'xml:lang': 'fr', 'type': 'literal', 'value': 'politicien américain'}, 'lat': {'datatype': 'http://www.w3.org/2001/XMLSchema#double', 'type': 'literal', 'value': '34.05223'}, 'long': {'datatype': 'http://www.w3.org/2001/XMLSchema#double', 'type': 'literal', 'value': '-118.24368'}, 'newimage': {'type': 'literal', 'value': 'http://commons.wikimedia.org/wiki/Special:FilePath/Charles%20Djou.jpg?width=200'}}\n",
      "{'dateDeNaissance': {'datatype': 'http://www.w3.org/2001/XMLSchema#dateTime', 'type': 'literal', 'value': '1947-06-21T00:00:00Z'}, 'personLabel': {'xml:lang': 'fr', 'type': 'literal', 'value': 'Dana Rohrabacher'}, 'personDescription': {'xml:lang': 'fr', 'type': 'literal', 'value': 'politicien américain'}, 'lat': {'datatype': 'http://www.w3.org/2001/XMLSchema#double', 'type': 'literal', 'value': '32.678055555556'}, 'long': {'datatype': 'http://www.w3.org/2001/XMLSchema#double', 'type': 'literal', 'value': '-117.1725'}, 'newimage': {'type': 'literal', 'value': 'http://commons.wikimedia.org/wiki/Special:FilePath/Rohrabacher1.jpg?width=200'}}\n",
      "{'dateDeNaissance': {'datatype': 'http://www.w3.org/2001/XMLSchema#dateTime', 'type': 'literal', 'value': '1954-12-26T00:00:00Z'}, 'personLabel': {'xml:lang': 'fr', 'type': 'literal', 'value': 'John Kefalas'}, 'personDescription': {'xml:lang': 'fr', 'type': 'literal', 'value': 'homme politique américain'}, 'lat': {'datatype': 'http://www.w3.org/2001/XMLSchema#double', 'type': 'literal', 'value': '37.943'}, 'long': {'datatype': 'http://www.w3.org/2001/XMLSchema#double', 'type': 'literal', 'value': '23.646944444444'}, 'newimage': {'type': 'literal', 'value': 'http://commons.wikimedia.org/wiki/Special:FilePath/Colorado-Rep-John-Kefalas.jpg?width=200'}}\n",
      "{'dateDeNaissance': {'datatype': 'http://www.w3.org/2001/XMLSchema#dateTime', 'type': 'literal', 'value': '1973-04-26T00:00:00Z'}, 'personLabel': {'xml:lang': 'fr', 'type': 'literal', 'value': 'Rubén Díaz'}, 'personDescription': {'xml:lang': 'fr', 'type': 'literal', 'value': 'homme politique américain'}, 'lat': {'datatype': 'http://www.w3.org/2001/XMLSchema#double', 'type': 'literal', 'value': '40.84676'}, 'long': {'datatype': 'http://www.w3.org/2001/XMLSchema#double', 'type': 'literal', 'value': '-73.873207'}, 'newimage': {'type': 'literal', 'value': 'http://commons.wikimedia.org/wiki/Special:FilePath/Rub%C3%A9n%20D%C3%ADaz%2C%20Jr.%2C%202012.jpg?width=200'}}\n",
      "{'dateDeNaissance': {'datatype': 'http://www.w3.org/2001/XMLSchema#dateTime', 'type': 'literal', 'value': '1941-11-06T00:00:00Z'}, 'personLabel': {'xml:lang': 'fr', 'type': 'literal', 'value': 'John Carter'}, 'personDescription': {'xml:lang': 'fr', 'type': 'literal', 'value': 'homme politique américain du Texas'}, 'lat': {'datatype': 'http://www.w3.org/2001/XMLSchema#double', 'type': 'literal', 'value': '29.762777777778'}, 'long': {'datatype': 'http://www.w3.org/2001/XMLSchema#double', 'type': 'literal', 'value': '-95.383055555556'}, 'newimage': {'type': 'literal', 'value': 'http://commons.wikimedia.org/wiki/Special:FilePath/John%20Carter%2C%20official%20photo%20portrait%20color.jpg?width=200'}}\n"
     ]
    }
   ],
   "source": [
    "from SPARQLWrapper import SPARQLWrapper, JSON\n",
    "\n",
    "sparql = SPARQLWrapper(\"https://query.wikidata.org/sparql\")\n",
    "sparql.setQuery(\"\"\"\n",
    "    PREFIX xsd: <http://www.w3.org/2001/XMLSchema#> \n",
    "PREFIX p: <http://www.wikidata.org/prop/> \n",
    "PREFIX psv: <http://www.wikidata.org/prop/statement/value/> \n",
    "PREFIX bd: <http://www.bigdata.com/rdf#> \n",
    "PREFIX wikibase: <http://wikiba.se/ontology#> \n",
    "PREFIX wd: <http://www.wikidata.org/entity/> \n",
    "PREFIX wdt: <http://www.wikidata.org/prop/direct/> \n",
    "\n",
    "select \n",
    "?lat ?long ?personLabel ?personDescription ?dateDeNaissance (concat(xsd:string(?image),'?width=200') as ?newimage)\n",
    "where {\n",
    "    ?person wdt:P31 wd:Q5 . \n",
    "    ?person wdt:P106 wd:Q82955 . \n",
    "    ?person wdt:P21 wd:Q6581097 . \n",
    "    ?person wdt:P27 wd:Q30. \n",
    "    ?person wdt:P140 wd:Q5043. \n",
    "    ?person wdt:P569 ?dateDeNaissance .\n",
    "    ?person wdt:P18 ?image. \n",
    "    ?person wdt:P19 ?lieu. \n",
    "       ?lieu p:P625 ?coord .\n",
    "\n",
    "          ?coord   psv:P625 ?coordValue .\n",
    "       \n",
    "          ?coordValue a wikibase:GlobecoordinateValue ;\n",
    "                        wikibase:geoLatitude ?lat ;\n",
    "                        wikibase:geoLongitude ?long .\n",
    "  # Doc : https://www.mediawiki.org/wiki/Wikidata_query_service/User_Manual#Label_service\n",
    "# SELECT ?variableLabel ?variableAltLabel  ?variableDescription\n",
    "SERVICE wikibase:label {\n",
    "     bd:serviceParam wikibase:language \"fr,en\" .\n",
    "}\n",
    "} \"\"\")\n",
    "sparql.setReturnFormat(JSON)\n",
    "results = sparql.query().convert()\n",
    "\n",
    "for result in results[\"results\"][\"bindings\"]:\n",
    "    print(result)\n",
    "    #print(result[\"label\"][\"value\"])"
   ]
  },
  {
   "cell_type": "code",
   "execution_count": null,
   "metadata": {},
   "outputs": [],
   "source": []
  }
 ],
 "metadata": {
  "kernelspec": {
   "display_name": "Python 3",
   "language": "python",
   "name": "python3"
  },
  "language_info": {
   "codemirror_mode": {
    "name": "ipython",
    "version": 3
   },
   "file_extension": ".py",
   "mimetype": "text/x-python",
   "name": "python",
   "nbconvert_exporter": "python",
   "pygments_lexer": "ipython3",
   "version": "3.7.3"
  }
 },
 "nbformat": 4,
 "nbformat_minor": 4
}
