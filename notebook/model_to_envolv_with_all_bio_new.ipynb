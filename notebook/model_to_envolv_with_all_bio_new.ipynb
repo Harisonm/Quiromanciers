{
 "cells": [
  {
   "cell_type": "code",
   "execution_count": 39,
   "metadata": {},
   "outputs": [],
   "source": [
    "import tensorflow as tf\n",
    "import pandas as pd\n",
    "import numpy as np\n",
    "import matplotlib.pyplot as plt\n",
    "from tensorflow.python.keras.models import Sequential,model_from_json\n",
    "from tensorflow.python.keras.layers import Dense, Activation,Dropout\n",
    "from tensorflow.python.keras.layers import LSTM , Embedding\n",
    "from tensorflow.python.keras.optimizers import RMSprop\n",
    "from tensorflow.python.keras.callbacks import LambdaCallback, ModelCheckpoint\n",
    "import random\n",
    "import sys\n",
    "import io"
   ]
  },
  {
   "cell_type": "code",
   "execution_count": 40,
   "metadata": {},
   "outputs": [],
   "source": [
    "#print(tf.test.gpu_device_name())\n",
    "# See https://www.tensorflow.org/tutorials/using_gpu#allowing_gpu_memory_growth\n",
    "#config = tf.ConfigProto()\n",
    "#config.gpu_options.allow_growth = True\n",
    "filename = \"../data/biographie_df.csv\""
   ]
  },
  {
   "cell_type": "code",
   "execution_count": 41,
   "metadata": {},
   "outputs": [
    {
     "data": {
      "text/html": [
       "<div>\n",
       "<style scoped>\n",
       "    .dataframe tbody tr th:only-of-type {\n",
       "        vertical-align: middle;\n",
       "    }\n",
       "\n",
       "    .dataframe tbody tr th {\n",
       "        vertical-align: top;\n",
       "    }\n",
       "\n",
       "    .dataframe thead th {\n",
       "        text-align: right;\n",
       "    }\n",
       "</style>\n",
       "<table border=\"1\" class=\"dataframe\">\n",
       "  <thead>\n",
       "    <tr style=\"text-align: right;\">\n",
       "      <th></th>\n",
       "      <th>name</th>\n",
       "      <th>biographie</th>\n",
       "    </tr>\n",
       "  </thead>\n",
       "  <tbody>\n",
       "    <tr>\n",
       "      <th>0</th>\n",
       "      <td>Eminem</td>\n",
       "      <td>Marshall Bruce Mathers III (born October 17, 1...</td>\n",
       "    </tr>\n",
       "    <tr>\n",
       "      <th>1</th>\n",
       "      <td>Lady Gaga</td>\n",
       "      <td>Stefani Joanne Angelina Germanotta ( STEF-ən-e...</td>\n",
       "    </tr>\n",
       "    <tr>\n",
       "      <th>2</th>\n",
       "      <td>Justin Bieber</td>\n",
       "      <td>Justin Drew Bieber (; born March 1, 1994) is a...</td>\n",
       "    </tr>\n",
       "    <tr>\n",
       "      <th>3</th>\n",
       "      <td>Lil Wayne</td>\n",
       "      <td>Dwayne Michael Carter Jr. (born September 27, ...</td>\n",
       "    </tr>\n",
       "    <tr>\n",
       "      <th>4</th>\n",
       "      <td>Miley Cyrus</td>\n",
       "      <td>Miley Ray Hemsworth (née Cyrus, born Destiny H...</td>\n",
       "    </tr>\n",
       "  </tbody>\n",
       "</table>\n",
       "</div>"
      ],
      "text/plain": [
       "            name                                         biographie\n",
       "0         Eminem  Marshall Bruce Mathers III (born October 17, 1...\n",
       "1      Lady Gaga  Stefani Joanne Angelina Germanotta ( STEF-ən-e...\n",
       "2  Justin Bieber  Justin Drew Bieber (; born March 1, 1994) is a...\n",
       "3      Lil Wayne  Dwayne Michael Carter Jr. (born September 27, ...\n",
       "4    Miley Cyrus  Miley Ray Hemsworth (née Cyrus, born Destiny H..."
      ]
     },
     "execution_count": 41,
     "metadata": {},
     "output_type": "execute_result"
    }
   ],
   "source": [
    "# Read in only the two columns we need \n",
    "chat = pd.read_csv(filename, encoding=\"utf-8\", sep=\";\", usecols = ['name', 'biographie'])\n",
    "# chat = pd.read_csv(filename, encoding=\"utf-8\", sep=\";\")\n",
    "# We don't want bots :) \n",
    "chat.head()"
   ]
  },
  {
   "cell_type": "code",
   "execution_count": 42,
   "metadata": {},
   "outputs": [
    {
     "name": "stdout",
     "output_type": "stream",
     "text": [
      "DataFrame biographie for 144 messages\n",
      "Their messages add up to 7198026 characters\n"
     ]
    }
   ],
   "source": [
    "biographie = chat.biographie\n",
    "\n",
    "n_messages = len(biographie)\n",
    "n_chars = len(' '.join(map(str, biographie)))\n",
    "\n",
    "print(\"DataFrame biographie for %d messages\" % n_messages)\n",
    "print(\"Their messages add up to %d characters\" % n_chars)"
   ]
  },
  {
   "cell_type": "code",
   "execution_count": 43,
   "metadata": {},
   "outputs": [
    {
     "data": {
      "text/plain": [
       "'marshall bruce mathers iii (born october 17, 1972), known professionally as eminem (; often stylized as eminǝm), is an american rapper, songwriter, record producer, record executive, film producer, and actor. he is consistently cited as one of the greatest and most influential rappers of all time. in addition to his solo career, eminem was a member of the hip hop group d12. he is also known for his collaborations with fellow detroit-based rapper royce da 5\\'9\"; the two are collectively known as bad meets evil.\\nafter his debut album infinite (1996) and the extended play slim shady ep (1997), eminem signed with dr. dre\\'s aftermath entertainment and subsequently achieved mainstream popularity in 1999 with the slim shady lp, which earned him his first grammy award for best rap album. his next two releases, the marshall mathers lp (2000) and the eminem show (2002), were worldwide successes, with each being certified diamond by the recording industry association of america (riaa) and both being nominated for the grammy award for album of the year. as a result of being the leading figure in a form of black music, eminem was subject to comparisons to elvis presley at the time. encore was released in 2004, which faced heavy criticism by fans and critics for its lacklustre quality. eminem went on hiatus after touring in 2005 partly due to a prescription drug addiction. he released relapse (2009) and recovery (2010), with both winning grammy awards for best rap album. recovery was the best-selling album of 2010 worldwide, the second time eminem had the international best-selling album of the year (after the eminem show). eminem\\'s eighth album, the marshall mathers lp 2 (2013), also won the grammy award for best rap album; it expanded his record for the most wins in the category. these were followed by 2017\\'s revival and 2018\\'s kamikaze.eminem starred in the drama film 8 mile (2002) playing a fictionalized version of himself, which won the academy award for best original song for \"lose yourself\", making him the first hip hop artist to ever win the award. eminem has made cameo appearances in the films the wash (2001), funny people (2009), and the interview (2014), and the television series entourage (2010). eminem has developed other ventures, including shady records, with manager paul rosenberg, which helped launch the careers of artists such as 50 cent, yelawolf and obie trice, among others. eminem has also established his own channel, shade 45, on sirius xm radio.\\nwith over 170 million records sold globally, eminem is among the best-selling music artists of all time. he is the best-selling music artist in the united states in the 2000s. he has won numerous awards, including fifteen grammy awards, eight american music awards, seventeen billboard music awards, an academy award (for best original for \"lose yourself) and a mtv europe music global icon award. eminem has had nine number-one albums on the billboard 200, which all consecutively debuted at number one on the chart making him the only artist to achieve this, and five number-one singles on the billboard hot 100. rolling stone included eminem in their list of the 100 greatest artists of all time.\\n\\n\\n== life and career ==\\n\\n\\n=== early life ===\\nmarshall bruce mathers iii was born on october 17, 1972 in st. joseph, missouri, the only child of marshall bruce mathers jr. and deborah rae \"debbie\" (née nelson). he is of english, scottish, german, german swiss, polish and luxembourgian ancestry. his mother nearly died during her 73-hour labor with him. eminem\\'s parents were in a band called daddy warbucks, playing in ramada inns along the dakotas–montana border before their separation. eminem\\'s father, referred to by his middle name bruce, left the family, moving to california and having two other children: michael and sarah. debbie later had son nathan \"nate\" kane samara. during his childhood, eminem and debbie shuttled between michigan and missouri, rarely staying in one house for more than a year or two and living primarily with family members. in missouri, they lived in several places, including st. joseph, savannah, and kansas city.\\n\\nas a teenager, eminem wrote letters to his father, which debbie stated all came back marked \"return to sender\". friends and family remember eminem as a happy child, but \"a bit of a loner\" who was often bullied. one bully, d\\'angelo bailey, severely injured eminem\\'s head in an assault; debbie filed a lawsuit against the school in 1982, which was dismissed the following year because the macomb county, michigan judge said the schools were immune from lawsuits. eminem spent much of his youth in a working-class, primarily black, detroit neighborhood. he and debbie were one of three white households on their block, and eminem was beaten by black youths several times. as a child he was interested in storytelling, aspiring to be a comic-book artist before discovering hip hop. eminem heard his first rap song (\"reckless\", featuring ice-t) on the breakin\\' soundtrack, a gift from debbie\\'s half-brother ronnie polkingharn, who was close to him and later became a musical mentor to him. when polkingharn committed suicide in 1991, eminem stopped speaking for days and did not attend his funeral.eminem\\'s home life was seldom stable; he frequently fought with his mother, whom a social worker described as having a \"very suspicious, almost paranoid personality\". when her son became famous, debbie was unimpressed by suggestions that she was a less-than-ideal mother, contending that she sheltered him and was responsible for his success. in 1987, debbie allowed runaway kimberly anne \"kim\" scott to stay at their home; several years later, eminem began an on-and-off relationship with scott. after spending three years in ninth grade due to truancy and poor grades, he dropped out of lincoln high school at age 17. although he was interested in english, he never explored literature (preferring comic books) and disliked math and social studies. eminem worked at several jobs to help his mother pay the bills, later maintaining that she often threw him out of the house anyway, often after taking most of his paycheck. when she left to play bingo, he would blast the stereo and write songs.at age 14, eminem began rapping with high-school friend mike ruby; they adopted the names \"manix\" and \"m&m\", the latter of which stood for his initials and evolved into \"eminem\". eminem sneaked into neighboring osborn high school with friend and fellow rapper proof for lunchroom freestyle rap battles. on saturdays, they attended open mic contests at the hip-hop shop on west 7 mile, considered \"ground zero\" for the detroit rap scene. struggling to succeed in a predominantly black industry, eminem was appreciated by underground hip hop audiences. when he wrote verses, he wanted most of the words to rhyme; he wrote long words or phrases on paper and, underneath, worked on rhymes for each syllable. although the words often made little sense, the drill helped eminem practice sounds and rhymes.\\n\\n\\n=== 1988–1997: early career, infinite and family struggles ===\\nin 1988, he went by the stage name mc double m and formed his first group new jacks with dj butter fingers. in 1989, they later joined bassmint productions who later changed their name to soul intent in 1992 with rapper proof and other childhood friends. they released a self-titled ep in 1995 featuring proof. eminem also made his first music video appearance in 1992 in a song titled, \"do-da-dippity\", by champtown. later in 1996, eminem and proof teamed up with four other rappers to form the dirty dozen (d12), who released their first album devil\\'s night in 2001. eminem had his first run-in with the law at age 20, when he was arrested for his involvement in a drive-by shooting with a paintball gun. the case was dismissed when the victim did not appear in court.eminem was soon signed to jeff and mark bass\\'s fbt productions, and recorded his debut album infinite for their independent web entertainment label. the album was a commercial failure upon its release in 1996. one lyrical subject of infinite was his struggle to raise his newborn daughter, hailie jade scott mathers, on little money. during this period, eminem\\'s rhyming style, primarily inspired by rappers nas, esham and az, lacked the comically violent slant for which he later became known. detroit disc jockeys largely ignored infinite, and the feedback eminem did receive (\"why don\\'t you go into rock and roll?\") led him to craft angrier, moodier tracks. at this time eminem and kim scott lived in a crime-ridden neighborhood, and their house was robbed several times. eminem cooked and washed dishes for minimum wage at gilbert\\'s lodge, a family-style restaurant at st. clair shores. his former boss described him as becoming a model employee, as he worked 60 hours a week for six months after hailie\\'s birth. he was fired shortly before christmas, and later said, \"it was, like, five days before christmas, which is hailie\\'s birthday. i had, like, forty dollars to get her something.\" after the release of infinite, his personal problems and substance abuse culminated in a suicide attempt. by march 1997 he was fired from gilbert\\'s lodge for the last time and lived in his mother\\'s mobile home with kim and hailie.\\n\\n\\n=== 1997–1999: introduction to slim shady, the slim shady lp and rise to success ===\\neminem attracted more attention when he developed slim shady, a sadistic, violent alter ego. the character allowed him to express his anger with lyrics about drugs, rape, and murder. in the spring of 1997 he recorded his debut ep, the slim shady ep, which was released that winter by web entertainment. the ep, with frequent references to drug use, sexual acts, mental instability, and violence, also explored the more-serious themes of dealing with poverty and marital and family difficulties and revealed his direct, self-deprecating response to criticism. hip-hop magazine the source featured eminem in its \"unsigned hype\" column in march 1998.\\nafter he was evicted from his home, eminem went to los angeles to compete in the 1997 rap olympics, an annual, nationwide battle rap competition. he placed second, and interscope records staff in attendance sent a copy of the slim shady ep to company ceo jimmy iovine. iovine played the tape for record producer dr. dre, founder of aftermath entertainment and founding member of hip-hop group n.w.a. dre recalled, \"in my entire career in the music industry, i have never found anything from a demo tape or a cd. when jimmy played this, i said, \\'find him. now.\\'\" he would later state on the fourth & last episode of the defiant ones, \"i was like: what the fuck!?, and who the fuck is that?\" expressing his shock towards mathers\\' rapping talent. although his associates criticized him for hiring a white rapper, he was confident in his decision: \"i don\\'t give a fuck if you\\'re purple; if you can kick it, i\\'m working with you.\" eminem had idolized dre since listening to n.w.a. as a teenager, and was nervous about working with him on an album: \"i didn\\'t want to be starstruck or kiss his ass too much...i\\'m just a little white boy from detroit. i had never seen stars let alone dr. dre.\" he became more comfortable working with dre after a series of productive recording sessions.eminem released the slim shady lp in february 1999. although it was one of the year\\'s most popular albums (certified triple platinum by the end of the year), he was accused of imitating the style and subject matter of underground rapper cage. the album\\'s popularity was accompanied by controversy over its lyrics; in \"\\'97 bonnie and clyde\" eminem describes a trip with his infant daughter when he disposes of his wife\\'s body, and in \"guilty conscience\" which encourages a man to murder his wife and her lover. \"guilty conscience\" marked the beginning of a friendship and musical bond between dr. dre and eminem. the label-mates later collaborated on a number of hit songs (\"forgot about dre\" and \"what\\'s the difference\" while also providing uncredited vocals on \"the watcher\" from dr. dre\\'s album 2001, \"bitch please ii\" from the marshall mathers lp, \"say what you say\" from the eminem show, \"encore/curtains down\" from encore, and \"old time\\'s sake\" and \"crack a bottle\" from relapse), and dre made at least one guest appearance on each of eminem\\'s aftermath albums. the slim shady lp has been certified quadruple platinum by the riaa.\\n\\n\\n=== 2000–2002: the marshall mathers lp, lyrical conflicts and the eminem show ===\\n\\nthe marshall mathers lp was released in may 2000. it sold 1.76 million copies in its first week, breaking us records held by snoop dogg\\'s doggystyle for fastest-selling hip hop album and britney spears\\' ...baby one more time for fastest-selling solo album. the first single from the album, \"the real slim shady\", was a success despite controversies about eminem\\'s insults and dubious claims about celebrities (for example, that christina aguilera had performed oral sex on fred durst and carson daly). in his second single, \"the way i am\", he reveals the pressure from his record company to top \"my name is\". although eminem parodied shock rocker marilyn manson in the music video for \"my name is\", they are reportedly on good terms; manson is mentioned in \"the way i am\", appeared in its music video and has performed a live remix of the song with eminem. in the third single, \"stan\" (which samples dido\\'s \"thank you\"), eminem tries to deal with his new fame, assuming the persona of a deranged fan who kills himself and his pregnant girlfriend (mirroring \"\\'97 bonnie & clyde\" from the slim shady lp). q called \"stan\" the third-greatest rap song of all time, and it was ranked tenth in a top40-charts.com survey. the song has since been ranked 296th on rolling stone\\'s \"500 greatest songs of all time\" list. in july 2000, eminem was the first white artist to appear on the cover of the source. the marshall mathers lp was certified diamond by the riaa in march 2011 and sold 21 million copies worldwide.eminem performed with elton john at the 43rd grammy awards ceremony in 2001, with the gay & lesbian alliance against defamation (glaad, an organization which considered eminem\\'s lyrics homophobic) condemning john\\'s decision to perform with eminem. entertainment weekly placed the appearance on its end-of-decade \"best-of\" list: \"it was the hug heard \\'round the world. eminem, under fire for homophobic lyrics, shared the stage with a gay icon for a performance of \"stan\" that would have been memorable in any context.\" on february 21, the day of the awards ceremony, glaad held a protest outside the staples center (the ceremony\\'s venue). in 2001 eminem appeared in the up in smoke tour with rappers dr. dre, snoop dogg, xzibit and ice cube and the family values tour with limp bizkit, headlining the anger management tour with papa roach, ludacris and xzibit.\\nthe eminem show was released in may 2002. it was another success, reaching number one on the charts and selling over 1.332 million copies during its first full week. the album\\'s single, \"without me\", denigrates boy bands, limp bizkit, dick and lynne cheney, moby and others. the eminem show certified diamond by the riaa examines the effects of eminem\\'s rise to fame, his relationship with his wife and daughter and his status in the hip-hop community, addressing an assault charge brought by a bouncer he saw kissing his wife in 2000. although several tracks are clearly angry, stephen thomas erlewine of allmusic found the eminem show less inflammatory than the marshall mathers lp. l. brent bozell iii, who had criticized the marshall mathers lp for misogynistic lyrics, noted the eminem show\\'s extensive use of obscenity and called eminem \"eminef\" for the prevalence of the word \"motherfucker\" on the album. the eminem show sold 27 million copies worldwide and was the best-selling album of 2002.\\n\\n\\n=== 2003–2007: encore, more lyrical conflicts and musical hiatus ===\\n\\non december 8, 2003, the united states secret service said that it was \"looking into\" allegations that eminem had threatened the president of the united states. the cause for concern was the lyrics of \"we as americans\" (\"fuck money / i don\\'t rap for dead presidents / i\\'d rather see the president dead / it\\'s never been said, but i set precedents\"), which was later released on a bonus cd with the deluxe edition of encore.also in 2003 eminem, a lifelong fan of tupac, provided production work for three tracks on the tupac resurrection soundtrack he would follow this up the next year by producing 12 of the 16 tracks on tupac\\'s loyal to the game album.encore, released in 2004, was another success. its sales were partially driven by the first single, \"just lose it\", which contained slurs about michael jackson. on october 12, 2004, a week after the release of \"just lose it\", jackson phoned the los angeles-based steve harvey radio show to report his displeasure with its video (which parodies jackson\\'s child molestation trial, plastic surgery and the 1984 incident when jackson\\'s hair caught fire during the filming of a commercial). in the song eminem says, \"that\\'s not a stab at michael / that\\'s just a metaphor / i\\'m just psycho\". many of jackson\\'s friends and supporters spoke out against the video, including stevie wonder (who described it as \"kicking a man while he\\'s down\" and \"bullshit\") and steve harvey (who said, \"eminem has lost his ghetto pass. we want the pass back\"). the video also parodied pee-wee herman, mc hammer and madonna during her blond ambition period. \"weird al\" yankovic, who parodied the eminem song \"lose yourself\" on \"couch potato\" for his 2003 album poodle hat, told the chicago sun-times about jackson\\'s protest: \"last year, eminem forced me to halt production on the video for my \\'lose yourself\\' parody because he somehow thought that it would be harmful to his image or career. so the irony of this situation with michael is not lost on me.\" although black entertainment television stopped playing the video, mtv announced that it would continue to air it. the source, through ceo raymond \"benzino\" scott, called for the video to be pulled, the song removed from the album and eminem to apologize publicly to jackson. in 2007 jackson and sony bought famous music from viacom, giving him the rights to songs by eminem, shakira, beck and others.despite its lead single\\'s humorous theme, encore explored serious subject matter with the anti-war song \"mosh\". the song criticized president george w. bush as \"this weapon of mass destruction that we call our president\", with lyrics including \"fuck bush\". on october 25, 2004, a week before the 2004 us presidential election, eminem released the video for \"mosh\" on the internet. in it, eminem gathers an army (including rapper lloyd banks) of bush-administration victims and leads them to the white house. when they break in, it is learned that they are there to register to vote; the video ends with \"vote tuesday november 2\". after bush\\'s reelection, the video\\'s ending was changed to eminem and the protesters invading the white house during a speech by the president. also in 2004 eminem launched a satellite music channel, shade 45, on sirius radio, which was described by his manager as \"essentially a destination to get and hear things that other people aren\\'t playing,\"in 2005, industry insiders speculated that eminem was considering ending his rapping career after six years and several multi-platinum albums. rumors began early in the year about a double album to be released late that year, entitled the funeral; the greatest hits album, entitled curtain call: the hits, was released in december. in july the detroit free press reported a possible final bow for eminem as a solo performer, quoting members of his inner circle as saying that he would embrace the roles of producer and label executive. the day of curtain call: the hits\\'s release, eminem appeared on wkqi\\'s \"mojo in the morning\" show. denying that he was retiring, he suggested he would take a break as an artist: \"i\\'m at a point in my life right now where i feel like i don\\'t know where my career is going ... this is the reason that we called it \\'curtain call\\' because this could be the final thing. we don\\'t know.\" the following year, eminem released eminem presents: the re-up on shady records.\\n\\nin 2005, eminem was ranked 58th in bernard goldberg\\'s book, 100 people who are screwing up america. goldberg cited a 2001 column by bob herbert of the new york times, in which herbert wrote \"in eminem\\'s world, all women are whores and he is eager to rape and murder them\", and the song \"no one\\'s iller\" from the slim shady ep as examples of eminem\\'s misogyny. that summer eminem began his first us concert tour in three years, with the anger management 3 tour featuring 50 cent, g-unit, lil jon, d12, obie trice and the alchemist. in august he canceled the european leg of the tour, later announcing that he had entered drug rehabilitation for treatment of a \"dependency on sleep medication\". curtain call: the hits was released december 6, 2005 by aftermath entertainment. during its first week it sold nearly 441,000 copies in the us, and was eminem\\'s fourth consecutive number-one album on the billboard hot 200. the album has been certified double platinum by the riaa.in 2006, proof, who was eminem\\'s childhood friend, was murdered.in september 2007, eminem called new york radio station wqht during an interview with 50 cent, saying that he was \"in limbo\" and \"debating\" about when (or if) he would release another album: \"i\\'m always working – i\\'m always in the studio. it feels good right now, the energy of the label. for a while, i didn\\'t want to go back to the studio ... i went through some personal things. i\\'m coming out of those personal things [and] it feels good.\"\\n\\n\\n=== 2008–2009: comeback, relapse and relapse: refill ===\\n\\neminem appeared on his shade 45 sirius channel in september 2008, saying: \"right now i\\'m kinda just concentrating on my own stuff, for right now and just banging out tracks and producing a lot of stuff. you know, the more i keep producing the better it seems like i get \\'cause i just start knowing stuff.\" interscope confirmed that a new album would be released in spring 2009. in december 2008, eminem provided more details about the album, entitled relapse: \"me and dre are back in the lab like the old days, man. dre will end up producing the majority of the tracks on \\'relapse\\'. we are up to our old mischievous ways ... let\\'s just leave it at that.\"according to a march 5, 2009 press release, eminem would release two new albums that year. relapse, the first, was released on may 19; its first single and music video, \"we made you\", had been released on april 7. although relapse did not sell as well as eminem\\'s previous albums and received mixed reviews, it was a commercial success and re-established his presence in the hip-hop world. it sold more than five million copies worldwide. during the 2009 mtv movie awards, sacha baron cohen descended on the audience in an angel costume. he landed buttocks-first on eminem, who stormed out of the ceremony; three days later, eminem said that the stunt had been staged. on october 30 he headlined at the voodoo experience in new orleans, his first full performance of the year. eminem\\'s act included several songs from relapse, many of his older hits and an appearance by d12. on november 19, he announced on his website that relapse: refill would be released on december 21. the album was a re-release of relapse with seven bonus tracks, including \"forever\" and \"taking my ball\". eminem described the cd:\\n\\ni want to deliver more material for the fans this year like i originally planned ... hopefully, these tracks on the refill will tide the fans over until we put out relapse 2 next year ... i got back in with dre and then a few more producers, including just blaze, and went in a completely different direction which made me start from scratch. the new tracks started to sound very different than the tracks i originally intended to be on relapse 2, but i still want the other stuff to be heard.\\n\\n\\n=== 2010–2011: recovery and bad meets evil reunion ===\\non april 14, 2010, eminem tweeted: \"there is no relapse 2\". although his followers thought he was not releasing an album, he had changed its title to recovery and confirmed this by tweeting \"recovery\" with a link to his website. he said: \\n\\ni had originally planned for relapse 2 to come out last year. but as i kept recording and working with new producers, the idea of a sequel to relapse started to make less and less sense to me, and i wanted to make a completely new album. the music on recovery came out very different from relapse, and i think it deserves its own title. his seventh album was released on june 18. in the us recovery sold 741,000 copies during its first week, topping the billboard 200 chart. eminem\\'s sixth consecutive us number-one album also topped the charts in several other countries. recovery remained atop the billboard 200 chart for five consecutive weeks of a seven-week total.billboard reported that it was the bestselling album of 2010, making eminem the first artist in nielsen soundscan history with two year-end bestselling albums. recovery is the bestselling digital album in history. its first single, \"not afraid\", was released on april 29 and debuted atop the billboard hot 100; its music video was released on june 4. \"not afraid\" was followed by \"love the way you lie\", which debuted at number two before rising to the top. although \"love the way you lie\" was the bestselling 2010 single in the united kingdom, it did not reach number one (the first time this has happened in the uk since 1969). despite criticism of its inconsistency, recovery received positive reviews from most critics. as of november 21, 2010, the album had us sales of three million copies. recovery was the bestselling album worldwide in 2010, joining 2002\\'s bestseller the eminem show to give eminem two worldwide year-end number-one albums. with recovery, eminem broke the record for the most successive us number-one albums by a solo artist.\\n\\nhe appeared at the 2010 bet awards, performing \"not afraid\" and \"airplanes, part ii\" with b.o.b and keyshia cole. later that year, he performed at the activison e3 concert. in june eminem and jay-z announced they would perform together in detroit and new york, at concerts called the home & home tour. the first two concerts quickly sold out, prompting an additional show in each city. bet called eminem the number-one rapper of the 21st century. he opened the 2010 mtv video music awards on september 12, performing \"not afraid\" and \"love the way you lie\" with rihanna singing the choruses. due to the success of recovery and the home & home tour, eminem was named the 2010 hottest mc in the game by mtv and emcee of the year by the online magazine hiphopdx. he and rihanna again collaborated on \"love the way you lie (part ii)\", the sequel of their hit single. unlike the original, rihanna is the lead vocalist and it is sung from the female perspective. in december 2010, the \"great eminem recovery\" was number one on billboard\\'s top 25 music moments of 2010. he appeared at the 2011 grammy awards on february 13, performing \"love the way you lie (part ii)\" with rihanna and adam levine and \"i need a doctor\" with dr. dre and skylar grey. that month it was announced that \"space bound\" would be the fourth single from recovery, with a music video featuring former porn star sasha grey; the video was released june 24 on the itunes store.in 2010, eminem again began collaborating with royce da 5\\'9\" on their first ep as bad meets evil; the duo formed in 1998. the ep, hell: the sequel, was released on june 14, 2011. eminem was featured on royce da 5\\'9\"\\'s \"writer\\'s block\", released on april 8, 2011. on may 3 they released the lead single \"fast lane\" from their upcoming ep, and a music video was filmed. in march 2011, within days of each other, the eminem show and the marshall mathers lp were certified diamond by the riaa; eminem is the only rapper with two diamond-certified albums. with more than 60 million \"likes\" he was the most-followed person on facebook, outscoring lady gaga, justin bieber, rihanna and michael jackson. eminem was the first artist in five years with two number-one albums (recovery and hell: the sequel) in a 12-month period. early in 2011 he leaked \"2.0 boys\", on which yelawolf and slaughterhouse collaborated when they signed with shady records in january, and performed it in april. bad meets evil released their next single, \"lighters\", on july 6 and its music video in late august. on august 6, eminem performed several songs from throughout his career at lollapalooza with the artists who had been featured on each song.\\n\\n\\n=== 2012–2013: the marshall mathers lp 2 ===\\n\\neminem announced on may 24, 2012, that he was working on his next album, scheduled for release the following year. without a title or release date, it was included on a number of \"most anticipated albums of 2013\" lists (including mtv); complex ranked it sixth, and xxl fifth.on august 14, \"survival\", featuring liz rodrigues and produced by dj khalil, premiered in the multi-player trailer for the video game call of duty: ghosts. according to a press release, the first single from eminem\\'s eighth album would be released soon. during the 2013 mtv video music awards, it was announced that the album would be entitled the marshall mathers lp 2 (following the marshall mathers lp) and was scheduled for release on november 5. its lead single, \"berzerk\", was released on august 25 and debuted at number three on the billboard hot 100 chart. three more singles followed: \"survival\" (appearing on the call of duty: ghosts trailer), \"rap god\" and \"the monster\" (with rihanna).\\nthe album was released on november 5, by aftermath entertainment, shady records and interscope records. its standard version had 16 tracks, and the deluxe version included a second disc with five additional tracks. the marshall mathers lp 2 was eminem\\'s seventh album to debut atop the billboard 200, and had the year\\'s second-largest first-week sales. he was the first artist since the beatles to have four singles in the top 20 of the billboard hot 100. in the united kingdom, the marshall mathers lp 2 debuted at number one on the uk albums chart. the first american artist with seven consecutive uk number-one albums, he is tied with the beatles for second place for the most consecutive chart-topping uk albums. the album secured eminem\\'s position as canada\\'s best-selling artist, and was 2013\\'s best-selling album.on november 3, eminem was named the first youtube music awards artist of the year, and a week later he received the global icon award at the 2013 mtv ema music awards. on june 10, it was announced that eminem was the first artist to receive two digital diamond certifications – sales and streams of 10 million and above – by the riaa (for \"not afraid\" and \"love the way you lie\"). on july 11 and 12, eminem played two concerts in wembley stadium. at the 57th grammy awards, he received best rap album award for the marshall mathers lp 2 and best rap/sung collaboration (with rihanna) for \"the monster\".\\n\\n\\n=== 2014–2016: shady xv, vinyl box set, and southpaw ===\\n\\nin the summer of 2014, eminem and rosenberg began using the hashtag #shadyxv on social networking sites, and eminem wore a t-shirt with the hashtag onstage. this was later revealed to be the name of an upcoming shady records compilation. shortly afterwards the first single from the album (\"guts over fear\", featuring singer-songwriter sia furler) was released and the album\\'s track list was released on october 29. shady records released a cypher to promote the album, in which eminem did a seven-minute freestyle. \"detroit vs. everybody\" (the album\\'s second single), with eminem, dej loaf, royce da 5\\'9\", danny brown, big sean and trick-trick, was released on november 11. shady xv, released on november 24 during black friday week, consists of one greatest-hits disc and one disc of new material by shady records artists such as d12, slaughterhouse, bad meets evil and yelawolf. the album debuted at number three on the billboard 200 chart, with first-week sales of 138,000 copies in the united states.the official eminem box set, a career-spanning, 10-disc vinyl box set, was released on march 12, 2015. the set includes seven of eminem\\'s eight studio albums (excluding infinite), the 8 mile soundtrack, the compilation eminem presents: the re-up, and the greatest hits collection curtain call: the hits. early in the year, it was announced that he would appear on tech n9ne\\'s \"speedom (worldwide choppers 2)\". the song, also featuring krizz kaliko, was released on april 20. eminem also appeared on yelawolf\\'s \"best friend\", the single from love story.\\neminem is the executive producer of the soundtrack on the sports drama southpaw, with shady records. the first single from the soundtrack called \\'phenomenal\\' was released on june 2, 2015. another single, \"kings never die\" by eminem featuring gwen stefani, was released on july 10, 2015 on youtube via eminem\\'s vevo account. eminem was the first interview of zane lowe in beats 1. the interview streamed online on the beats 1 radio on july 1, 2015.\\n\\neminem appeared on the public access show only in monroe, produced in monroe, michigan, and was interviewed by guest host stephen colbert for an episode that aired july 1, 2015. in the episode eminem sang snippets of bob seger songs at colbert\\'s prompting and briefly discussed southpaw. in june 2015, it was revealed that he will serve as the executive producer and music supervisor on the tv series motor city whose premise will be based upon the 2002 film narc.in september 2016, eminem was featured on skylar grey\\'s song, \"kill for you\", which appears on her album, natural causes. on october 19, 2016, eminem released a new song called \"campaign speech\", a political hip hop song, and announced he was working on a new album. on november 17, 2016, eminem released a remastered version of \\'infinite\\' on his youtube vevo channel. on november 22, 2016, eminem released a trailer for a 10-minute short documentary called partners in rhyme: the true story of infinite.\\n\\n\\n=== 2017–present: revival and kamikaze ===\\nin february 2017, eminem appeared on \"no favors\", a track from big sean\\'s album i decided. in the song, eminem calls the newly elected president donald trump a \"bitch\", and also raps about raping conservative social and political commentator ann coulter, who is a trump supporter, with a variety of foreign objects. coulter responded to the lyrics, stating, \"i think it\\'s unfortunate that the left, from berkeley to eminem with his rap songs, has normalized violence against women, as eminem has done.\" eminem participated in the 2017 bet hip hop awards\\' annual cypher, using his verse, a freestyle rap called \"the storm\", to further criticize trump and the administration for, among other things, trump\\'s focus on national football league players\\' protests during \"the star spangled banner\" over hurricane maria recovery efforts and lack of gun control reform in the wake of the 2017 las vegas shooting. eminem ended the cypher by giving an ultimatum saying that trump supporters cannot be his fans. the verse received wide praise among other rappers following its release. in october 2017, eminem appeared on \"revenge\", a track from pink\\'s album beautiful trauma. it was reported that the secret service interviewed eminem in 2018-2019, regarding threatening lyrics towards president trump and daughter ivanka.\\n\\nstarting in late october, eminem and paul rosenberg began teasing what fans speculated was the title of a new album titled revival, in the form of advertisements for a fake medication of the same name. later in november, the first single \"walk on water\" was released, which featured beyoncé. the song was first performed, by eminem, at the 2017 mtv europe music awards on november 12, featuring skylar grey. he appeared on saturday night live on november 18, performing \"walk on water\", \"stan\" and \"love the way you lie\" with skylar grey. on november 28, dr. dre posted a video confirming the album\\'s release date as december 15, 2017. on december 8, eminem released a promotional single titled \"untouchable\" which featured a sample from the duo cheech & chong. despite an online leak of the album two days prior, revival was released as planned on december 15. on january 5, 2018, the second single \"river\" was released, which featured ed sheeran. it became eminem\\'s eighth consecutive album to top the us billboard 200 upon release with 197,000 copies sold in its first week. as a result, he became the first musical act to have eight entries in a row debut atop the chart. the album was met with mixed reviews from music critics.in 2018, an extended edition of \"nowhere fast\" with kehlani and a remix of \"chloraseptic\" featuring 2 chainz and phresher were released from revival. on august 31, 2018, eminem released his previously unannounced tenth studio album kamikaze, making it his second full-length studio album in 8 months. the album would top the billboard 200, making it his ninth album in a row to do so, after selling 434,000 units in the first week. on december 1, eminem released an 11 minute freestyle to his youtube channel titled \\'kick off\\'. eminem collaborated with several artists throughout early 2019, including boogie, logic, ed sheeran, 50 cent, and conway the machine. on february 23, 2019, to celebrate its 20th anniversary, eminem released a re-issue of the slim shady lp, including acapellas, instrumentals and radio edited versions of tracks from the album. on june 25, 2019, the new york times magazine listed eminem among hundreds of artists whose material was reportedly destroyed in the 2008 universal fire.\\n\\n\\n== artistry ==\\n\\n\\n=== influences, style, and rapping technique ===\\neminem has cited several mcs as influencing his rapping style, including esham, kool g rap, masta ace, big daddy kane, newcleus, ice-t, mantronix, melle mel (on \"the message\"), ll cool j, beastie boys, run–d.m.c., rakim and boogie down productions.\\nin how to rap, guerilla black notes that eminem studied other mcs to hone his rapping technique: \"eminem listened to everything and that\\'s what made him one of the greats\". in the book, other mcs also praise aspects of his rapping technique; varied, humorous subject matter, connecting with his audience, carrying a concept over a series of albums, complex rhyme schemes, bending words so they rhyme, multisyllabic rhymes, many rhymes to a bar, complex rhythms, clear enunciation and the use of melody and syncopation. eminem is known to write most of his lyrics on paper (documented in the way i am), taking several days or a week to craft lyrics, being a \"workaholic\" and \"stacking\" vocals. examples of hip hop subgenres that eminem\\'s music has been described as include horrorcore, comedy hip hop, and hardcore hip hop. eminem also incorporates rap rock into his music.\\n\\n\\n=== alter egos ===\\neminem uses alter egos in his songs for different rapping styles and subject matter. his best-known alter ego, slim shady, first appeared on the slim shady ep and was in the slim shady lp, the marshall mathers lp, the eminem show, encore, relapse, the marshall mathers lp 2, and kamikaze. in this persona, his songs are violent and dark, with a comic twist. eminem downplayed slim shady on recovery because he felt it did not fit the album\\'s theme.\\n\\n\\n=== collaborations and productions ===\\n\\nalthough eminem usually collaborates with aftermath entertainment and shady records rappers such as dr. dre, 50 cent, d12, obie trice and yelawolf, he has also worked with redman, kid rock, dmx, lil wayne, missy elliott, jay z, drake, rihanna, nicki minaj, xzibit, method man, jadakiss, fat joe, sticky fingaz, t.i. and young jeezy. eminem rapped a verse in a live performance of busta rhymes\\' \"touch it\" remix at the june 27, 2006 bet music awards. he appeared on akon\\'s single \"smack that\" from konvicted, lil wayne\\'s hit \"drop the world\", and \"my life\" (the lead single from 50 cent\\'s street king immortal).\\neminem was the executive producer of d12\\'s first two albums (devil\\'s night and d12 world), obie trice\\'s cheers and second round\\'s on me and 50 cent\\'s get rich or die tryin\\' and the massacre. he has produced songs for other rappers, such as jadakiss\\' \"welcome to d-block\", jay-z\\'s \"renegade\" and \"moment of clarity\", lloyd banks\\' \"on fire\", \"warrior part 2\" and \"hands up\", tony yayo\\'s \"drama setter\", trick-trick\\'s \"welcome 2 detroit\", and xzibit\\'s \"my name\" and \"don\\'t approach me\". most of the eminem show was produced by eminem and his longtime collaborator, jeff bass, and eminem co-produced encore with dr. dre. in 2004 eminem was co-executive producer of 2pac\\'s posthumous album loyal to the game with shakur\\'s mother, afeni. he produced the uk number-one single \"ghetto gospel\", featuring elton john, \"the cross\" from the nas album god\\'s son and eight tracks on obie trice\\'s 2006 second round\\'s on me (also appearing on \"there they go\"). eminem produced several tracks on trick-trick\\'s the villain (appearing on \"who want it\"), and produced four tracks on cashis\\' 2013 album the county hound 2.\\neminem is considered unusual in structuring his songs around the lyrics, rather than writing to beats. one exception was \"stan\", which came from an idea and scratch track produced by the 45 king. after doing little production on relapse and recovery, eminem produced a significant portion of the marshall mathers lp 2. he said about producing his own music, \"sometimes, i may get something in my head, like an idea or the mood of something that i would want, and i\\'m not always gonna get that by going through different tracks that other people have made. they don\\'t know what\\'s in my head. i think maybe it helps, a little bit, with diversity, the sound of it, but also, i would get something in my head and want to be able to lay down that idea from scratch.\"\\n\\n\\n=== comparisons with other artists ===\\nas a white performer prominent in a genre influenced by black artists, eminem has been compared, much to his chagrin, to elvis presley, and as a lyricist and as aforementioned to bob dylan. rapper asher roth has been compared to eminem, and roth devoted a song on his album (\"as i em\") to him, which he took offense to. the accomplished trumpeter nicholas payton has called eminem \"the bix beiderbecke of hip hop\".\\neminem and christian hip hop artist kj-52 have been compared to each other, with kj-52 called his \"christian counterpart\". kj-52\\'s single, \"dear slim\", was controversial with eminem fans when it appeared on total request live. although he said the song was not intended to be disrespectful, kj-52 received hate mail and the song was number 26 on vh1\\'s top 40 worst moments in hip hop list.\\n\\n\\n== personal life ==\\n\\n\\n=== family ===\\neminem has been scrutinized, as a rapper and personally. he was married twice to kimberly anne \"kim\" scott. he met kim in high school while he stood on a table with his shirt off rapping ll cool j\\'s \"i\\'m bad\". kim and her twin sister dawn had run away from home; they moved in with eminem and his mother when he was 15, and he began an on-and-off relationship with kim in 1989. their daughter hailie was born on december 25, 1995. the two were married in 1999 and divorced in 2001. although eminem told rolling stone in 2002, \"i would rather have a baby through my penis than get married again\", he and kim briefly remarried in january 2006. he filed for divorce in early april, agreeing to joint custody of hailie. he also has custody of dawn\\'s daughter alaina and whitney, kim\\'s daughter from another relationship. in early 2010, eminem denied tabloid reports that he and kim had renewed their romantic relationship; however, in the same statement his representative also confirmed that they now maintain a friendly relationship. he had legal custody of his younger half-brother nathan. in his 2014 song \"headlights\", eminem apologized to, and reiterated his love for his mother.\\n\\n\\n=== legal issues and controversies ===\\nin 1999, eminem\\'s mother sued him for about $10 million for slandering her on the slim shady lp, receiving about $1,600 in damages in 2001. on june 3, 2000, eminem was arrested during an altercation with douglas dail at a car-audio store in royal oak, michigan, when he pulled out an unloaded gun and pointed it at the ground. the next day, in warren, michigan, he was arrested again for assaulting john guerra in the parking lot of the hot rock café when he saw him kissing his wife. eminem recreated the guerra assault in \"the kiss (skit)\" on the eminem show. he pleaded guilty to possession of a concealed weapon and assault, and received two years\\' probation; however, guerra\\'s assault charge was dropped as part of the plea agreement. on july 7, 2000, kim attempted suicide by slashing her wrists, and later sued eminem for defamation after describing her violent death in \"kim\".on october 26, 2000, eminem was scheduled to perform at toronto\\'s skydome when ontario attorney general jim flaherty said that eminem should not be allowed to enter the country. \"i personally don\\'t want anyone coming to canada who will come here and advocate violence against women,\" he said. flaherty also said that he was \"disgusted\" when he read the lyrics of \"kill you\", which includes the lines \"slut, you think i won\\'t choke no whore / till the vocal cords don\\'t work in her throat no more?\" although public reaction to flaherty\\'s position was generally negative, with barring eminem from the country considered a free-speech issue, liberal mpp michael bryant suggested that hate crime charges be brought against eminem for advocating violence against women in his lyrics. robert everett-green wrote in a globe and mail editorial, \"being offensive is eminem\\'s job description\". eminem\\'s toronto concert went on as planned.sanitation worker deangelo bailey sued eminem for $1 million in 2001, accusing him of invading his privacy by publicizing information placing him in a false light in \"brain damage\", a song which portrays him as a violent school bully. although bailey admitted picking on eminem in school, he said he merely \"bumped\" him and gave him a \"little shove\". the lawsuit was dismissed on october 20, 2003; judge deborah servitto, who wrote a portion of her opinion in rap-like rhyming verse, ruled that it was clear to the public that the lyrics were exaggerated.on june 28, 2001, eminem was sentenced to one year\\'s probation and community service and was fined about $2,000 on weapon charges stemming from an argument with an employee of psychopathic records.on march 31, 2002, french jazz pianist jacques loussier filed a $10 million lawsuit against eminem and dr. dre, claiming that the beat for \"kill you\" was taken from his instrumental \"pulsion\". loussier demanded that sales of the marshall mathers lp be halted, and any remaining copies destroyed. the case was later settled out of court.on december 8, 2003, the united states secret service reported that it was \"looking into\" allegations that eminem threatened u.s. president george w. bush in \"we as americans\" (an unreleased bootleg at the time), with the lyrics: \"fuck money, i don\\'t rap for dead presidents. i\\'d rather see the president dead, it\\'s never been said but i set precedents.\" the incident was included in the video for \"mosh\", as a newspaper clipping on a wall with articles about unfortunate incidents in bush\\'s career. \"we as americans\" eventually appeared on encore\\'s deluxe-edition bonus disc, with altered lyrics.\\nin 2006, eminem was accused of assaulting miad jarbou, a resident of royal oak, michigan, in the bathroom of a detroit strip club, but was never charged. two years later in 2008, jarbou sued eminem for more than $25,000 in damages.in 2007, eminem\\'s music-publishing company (eight mile style) and martin affiliated sued apple inc. and aftermath entertainment, claiming that aftermath was not authorized to negotiate a deal with apple for digital downloads of 93 eminem songs on apple\\'s itunes. the case against apple was settled shortly after the trial began, in late september 2009.in july 2010, the united states court of appeals for the ninth circuit ruled in f.b.t. productions, llc v. aftermath records that f.b.t. productions and eminem were owed a royalty of 50 percent of aftermath\\'s net revenue from licensing his recordings to companies such as apple, sprint corporation, nextel communications, cingular and t-mobile. in march 2011, the supreme court of the united states declined to hear the case.in october 2013, eminem sampled chicago-based rap group hotstylz\\'s 2008 viral hit, \"lookin\\' boy\", for his 2013 hit single, \"rap god\". the group claims that eminem did not receive permission to use the sample, nor did he credit or compensate them. in november 2013, hotstylz released a diss track towards eminem titled \"rap fraud\", where they sample several of his songs and criticize him for not crediting them. in january 2015, tmz reported that hotstylz was suing eminem and his label, shady records, for $8 million, for using the 25 second sample of \"lookin\\' boy\" on his song \"rap god\", without their permission.in 2018-2019, the secret service interviewed eminem again regarding threatening lyrics towards president donald trump and daughter ivanka.\\n\\n\\n=== health issues ===\\neminem has spoken publicly about his addiction to prescription drugs, including vicodin, ambien and valium. according to friend and fellow d12 member proof, eminem first straightened out in 2002. during the production of 8 mile, eminem, working 16 hours a day, developed insomnia. an associate gave him an ambien tablet which \"knocked [him] out\", encouraging him to obtain a prescription. this was eminem\\'s first experience of drug addiction, which would affect him for several years. near the end of production on encore, he would \"just go into the studio and goof off [with] a pocketful of pills\". eminem began taking the drugs to \"feel normal\", taking a \"ridiculous amount [...] i could consume anywhere from 40 to 60 valium [in a day]. vicodin, maybe 30\". the drugs would put him to sleep for no more than two hours, after which he would take more. eminem\\'s weight increased to 230 pounds (100 kg), and he was regularly eating fast food: \"the kids behind the counter knew me – it wouldn\\'t even faze them. or i\\'d sit up at denny\\'s or big boy and just eat by myself. it was sad\". eminem became less recognizable due to his weight gain, and once overheard two teenagers arguing about whether or not it was him: \"eminem ain\\'t fat.\"in december 2007, eminem was hospitalized after a methadone overdose. he had first bought from a dealer who had told him it was \"just like vicodin, and easier on [your] liver\". he continued to buy more until he collapsed in his bathroom one night and was rushed to the hospital. doctors there told him he had ingested the equivalent of four bags of heroin and was \"about two hours from dying\". after missing christmas with his children, eminem checked himself out of the facility weak and not fully detoxed. he tore the meniscus in his knee after falling asleep on his sofa, requiring surgery; after he returned home, he had a seizure. his drug use \"ramped right back to where it was before\" within a month. eminem began to attend church meetings to get clean, but after he was asked for autographs he sought help from a rehabilitation counselor. he began an exercise program which emphasized running. elton john was a mentor during this period, calling eminem once a week to check on him.in the book my son marshall, my son eminem, his mother stated that he has struggled with bipolar disorder throughout his life. she said it worsened after his ex-wife kim mathers gave birth to their daughter hailie.on april 20, 2019, eminem announced he was 11 years sober.\\n\\n\\n=== allegations of homophobia ===\\nsome of eminem\\'s lyrics have been considered homophobic, and an australian politician attempted to ban him from the country. eminem denies the charge, saying that when he was growing up words such as \"faggot\" and \"queer\" were used generally in a derogatory manner and not specifically toward homosexuals. during a 60 minutes interview, journalist anderson cooper explored the issue:\\ncooper: some of the lyrics, like, you know, in the song \"criminal\" you say \"my words are like a dagger with a jagged edge, that\\'ll stab you in the head, whether you\\'re a fag or lez, or the homosex, hermaph or a trans-a-vest, pants or dress—hate fags? the answer\\'s \\'yes\\'\".\\neminem: yeah, this scene i came up in. that word was thrown around so much, you know, \"faggot\" was like thrown around constantly to each other, like in battling.\\ncooper: do you not like gay people?\\neminem: no, i don\\'t have any problem with nobody. you know what i mean? i\\'m just like whatever.when the new york times asked him about the legalization of same-sex marriage in michigan in 2010, eminem replied: \"i think if two people love each other, then what the hell? i think that everyone should have the chance to be equally miserable, if they want\", adding that his \"overall look on things is a lot more mature than it used to be\".eminem was accused yet again of using homophobic words in his lyrics in \"rap god\" (2013) and explained \"i don\\'t know how to say this without saying it how i\\'ve said it a million times. but that word, those kind of words, when i came up battle-rappin\\' or whatever, i never really equated those words...\"\\n\\n\\n== legacy ==\\neminem is widely considered one of the greatest hip-hop artists of all time. he was 83rd on rolling stone\\'s 100 greatest artists of all time and 79th on the vh1 100 greatest artists of all time lists. in 2010, mtv portugal ranked eminem the seventh-biggest icon in pop-music history. in 2012, the source ranked him #6 on their list of the top 50 lyricists of all time, while about.com ranked him #7 on its list of the 50 greatest mcs of our time (1987-2007). in 2015, eminem was placed third on \"the 10 best rappers of all time\" list by billboard. he was the bestselling artist from 2000 to 2009 in the us according to nielsen soundscan, and has sold 47.4 million albums in the country. with global sales of over 170 million records, he is one of the world\\'s best-selling artists of all time. eminem has over ten billion views of his music videos on his youtube vevo page. in 2010, eminem\\'s music generated 94 million streams (more than any other musical artist), and in may 2014, spotify called him the most-streamed artist of all time. according to billboard, two of eminem\\'s albums are among the top-five bestselling albums from 2000 to 2010. \"love the way you lie\" (11× platinum), \"lose yourself\" (10x platinum), and \"not afraid\" (10× platinum) are all certified diamond by the riaa, making him the first artist with two then three digital diamond-certified songs in the us. in the uk, eminem has sold over 12.5 million records.\\nas of june 2014, eminem is the second-bestselling male artist of the nielsen soundscan era, the sixth-bestselling artist in the united states and the bestselling hip-hop artist, with sales of 45.1 million albums and 42 million tracks (including 31 million digital single certifications). eminem has had ten number-one albums on the billboard 200: seven solo (five original albums and two compilations), two with d12 and one with bad meets evil. the eminem show, the marshall mathers lp, and encore were ranked the third-, seventh- and fortieth-bestselling albums of the 2000–2009 decade, respectively. eminem has had 13 number-one singles worldwide. eminem has been credited of rising the careers of rap proteges such as 50 cent, yelawolf, stat quo, royce da 5\\'9\", cashis, obie trice, bobby creekwater, boogie, and rap groups such as d12 and slaughterhouse.\\n\\nin august 2011, eminem was called the king of hip-hop by rolling stone, which analyzed album sales, r&b, hip-hop and rap chart positions, youtube views, social media, concert grosses, industry awards and critical ratings of solo rappers who released music from 2009 to the first half of 2011. his second major-label album, the marshall mathers lp, was the fastest-selling solo album in us history and was ranked one of the greatest hip-hop albums of all time by rolling stone, time and xxl. rolling stone ranked it the seventh-best album of the first decade of the 21st century. the album\\'s third single (\"stan\") is one of eminem\\'s most critically acclaimed songs, with pitchfork calling it \"a cultural milestone\".a number of artists have cited eminem as an influence, including regina spektor, the weeknd, crooked i, tech n9ne, logic, lil wayne, nicki minaj, t.i., camila cabello, b.o.b, jhené aiko, 50 cent, usher, earl sweatshirt, ab-soul, freddie gibbs, alec benjamin, kendrick lamar, ybn cordae, ed sheeran, lana del rey, big sean, j. cole, skylar grey, bubba sparxxx, asher roth, phresher, blocboy jb, machine gun kelly, yelawolf, hopsin, tyler, the creator, hollywood undead, kiiara, chris webby, yes-r, russ, charles hamilton, chance the rapper, jon connor, snow tha product, stalley, royce da 5\\'9\", sturgill simpson, nf, slim the mobster, joyner lucas, joe budden, tony yayo, the game, juice wrld, and bts.rappers david banner, tech n9ne, hopsin, g-eazy, boosie badazz, wiz khalifa, kevin gates, slim the mobster, drake, 50 cent, talib kweli, kool g. rap, charles hamilton, king los, logic, j. cole, redman, kurupt, e-40, dr. dre, ice cube, nas, young jeezy, n.o.r.e., joe budden, ab-soul, big sean, kendrick lamar, fabolous, jon connor, royce da 5\\'9\", big daddy kane, rakim, t.i., gangsta boo, tyler, the creator, kanye west, masta ace, bow wow, joyner lucas, b-real, willie d, busta rhymes, phresher, akon, stalley, the game, dave east, m.i abaga, chuck d, joell ortiz, king lil g, treach, crooked i, jadakiss, fat joe, twista, diddy, tyga, lil b, lupe fiasco, cormega, flavor flav, jim jones, remy ma, b.o.b, russ, nick cannon, the d.o.c., ceelo green, pharoahe monch, ty dolla sign, machine gun kelly, yelawolf, and jay-z have each called eminem one of the greatest rappers of all time.\\n\\n\\n== honors and awards ==\\n\\neminem won the 2002 academy award for best original song for his song lose yourself, co-written with jeff bass and luis resto. his academy award win made him the first rapper to receive the award.eminem has received fifteen grammy awards. \"the real slim shady\" (from eminem\\'s second grammy-winning album, the marshall mathers lp) criticizes the awards in its second verse, with eminem believing at the time that negative opinion of his material would prevent him from ever winning one. eminem received the global icon award at the 2013 mtv europe music awards in amsterdam.eminem been praised for his \"verbal energy\" and lyrical quality and was ranked ninth on mtv\\'s greatest mcs of all time list. in 2003, he was thirteenth on mtv\\'s 22 greatest voices in music list and 82nd on rolling stone\\'s immortals list. in 2008, vibe readers named eminem the best rapper alive.\\n\\n\\n== other ventures ==\\n\\n\\n=== shady records ===\\n\\nafter eminem\\'s multi-platinum record sales, interscope offered him his own label; he and paul rosenberg founded shady records in late 1999. eminem signed his detroit collective, d12, and rapper obie trice to the label and signed 50 cent in a 2002 joint venture with dr. dre\\'s aftermath label. in 2003, eminem and dr. dre added atlanta rapper stat quo to the shady-aftermath roster. dj green lantern, eminem\\'s former dj, was with shady records until a dispute related to the 50 cent-jadakiss feud forced him to leave the label. the alchemist is currently eminem\\'s tour dj. in 2005 eminem signed another atlanta rapper, bobby creekwater, and west coast rapper cashis to shady records.on december 5, 2006, the compilation album eminem presents: the re-up was released on shady records. the project began as a mixtape, but when eminem found the material better than expected he released it as an album. the re-up was intended to introduce stat quo, cashis and bobby creekwater. while he was recording infinite, eminem, proof and kon artis assembled a group of fellow rappers now known as d12, short for \"detroit twelve\" or \"dirty dozen\", who performed in a style similar to wu-tang clan. in 2001 d12\\'s debut album, devil\\'s night, was released. the first single from the album was \"shit on you\", followed by \"purple pills\" (an ode to recreational drug use) and \"fight music\". \"purple pills\" was rewritten for radio and television, removing many of the song\\'s references to drugs and sex, and renamed \"purple hills\".\\nafter their debut, d12 took a three-year break from the studio. they reunited in 2004 for their second album, d12 world, which included the hit singles \"my band\" and \"how come\". \"american psycho 2\" featuring cypress hill member, b-real, was another popular hit. according to d12 member bizarre, eminem was not featured on his album blue cheese & coney island because \"he\\'s busy doing his thing\".in january 2014, bass brothers announced that d12 had returned to record at f.b.t. studio and they were working on an album with eminem on at least three songs. bizarre reported that he was still part of the group and that the album was scheduled for a 2014 release.\\n\\n\\n=== acting career ===\\nafter small roles in the 2001, film the wash and as an extra in the 1998 korn music video for \"got the life\" (during which he gave the band a demo tape), eminem made his hollywood debut in the quasi-autobiographical 2002 film 8 mile. he said it was a representation of growing up in detroit rather than an account of his life. he recorded several new songs for the soundtrack, including \"lose yourself\" (which won an academy award for best original song in 2003 and became the longest-running #1 hip hop single in history). eminem was absent from the ceremony, and co-composer luis resto accepted the award.eminem voiced an aging, corrupt, ebonics-speaking police officer in the video game 50 cent: bulletproof and guested on the comedy central television show crank yankers and a web cartoon, the slim shady show he was signed to star in an unmade film version of have gun – will travel, and was considered for the role of david rice in the 2008 film jumper. eminem had a cameo appearance, arguing with ray romano, in the 2009 film funny people.\\nhe played himself in the entourage season-seven finale \"lose yourself\" with christina aguilera. although eminem was offered the lead role in the 2013 science-fiction film elysium, he turned it down because director neill blomkamp would not change its location from los angeles to detroit. eminem had a cameo appearance as himself in the 2014 film the interview. during an interview with the main character, dave skylark (james franco), eminem satirically comes out as homosexual.\\n\\n\\n=== books and memoirs ===\\non november 21, 2000, eminem published angry blonde, a non-fiction book featuring commentary of several of his own songs, along with several previously unpublished photographs. on october 21, 2008 his autobiography the way i am was published. detailing his struggles with poverty, drugs, fame, heartbreak, and depression, it includes stories of his rise to fame, commentary about past controversies and original lyric sheets from \"stan\" and \"the real slim shady\". an autobiography of eminem\\'s mother (my son marshall, my son eminem) was published the following month, in which debbie nelson describes her childhood and adolescence, meeting eminem\\'s father and her son\\'s rise to (and struggles with) fame.\\n\\n\\n=== advertising and charity ===\\neminem appeared in two commercials which were shown during super bowl xlv. in the first, a one-minute spot for lipton\\'s brisk iced tea, he is a claymation figure. in the second, a two-minute ad – the longest in super bowl history at the time – for the chrysler 200, eminem drives through detroit (with \"lose yourself\" as the soundtrack) to his show at the fox theatre.he established the marshall mathers foundation to aid disadvantaged youth. the foundation works in conjunction with a charity founded by norman yatooma, a detroit attorney.\\n\\n\\n=== royalty flow ===\\nin september 2017, a company called royalty flow (a subsidiary of royalty exchange), filed to issue an ipo under sec regulation a+ to raise money with the intent of purchasing either 15% or 25% of eminem\\'s former production team\\'s (the bass brothers, aka fbt productions) share of his sound recording royalties.\\n\\n\\n== discography ==\\n\\nstudio albums\\n\\ninfinite (1996)\\nthe slim shady lp (1999)\\nthe marshall mathers lp (2000)\\nthe eminem show (2002)\\nencore (2004)\\nrelapse (2009)\\nrecovery (2010)\\nthe marshall mathers lp 2 (2013)\\nrevival (2017)\\nkamikaze (2018)collaborative albums\\n\\ndevil\\'s night (with d12) (2001)\\nd12 world (with d12) (2004)\\nhell: the sequel (with bad meets evil) (2011)\\n\\n\\n== concert tours ==\\n\\nas a headliner\\n\\nthe recovery tour (2010–2013)\\nrapture tour (2014)\\nrevival tour (2018)\\nrapture tour (2019)as a co-headliner\\n\\nup in smoke tour (with dr. dre, snoop dogg, ice cube and others) (2000)\\nanger management tour (with limp bizkit and papa roach) (2002–2005)\\nthe home & home tour (with jay z) (2010)\\nthe monster tour (with rihanna) (2014)\\n\\n\\n== books ==\\n\\n\\n== see also ==\\n\\n\\n== references ==\\n\\n\\n== further reading ==\\nbozza, anthony (2003). whatever you say i am: the life and times of eminem. new york: crown publishing group. isbn 1-4000-5059-6.\\ncohen, sara (2007). decline, renewal and the city in popular music culture: beyond the beatles. ashgate publishing, ltd. isbn 978-0-7546-3243-6.\\nedwards, paul (2009). how to rap: the art & science of the hip-hop mc. chicago: chicago review press. isbn 978-1-55652-816-3.\\ngoldberg, bernard (2005). 100 people who are screwing up america. new york city: harpercollins. isbn 0-06-076128-8.\\nparker, scott f. (2014). eminem and rap, poetry, race: essays. mcfarland. isbn 9781476618647.\\n\\n\\n== external links ==\\n\\nofficial website\\neminem on imdb'"
      ]
     },
     "execution_count": 43,
     "metadata": {},
     "output_type": "execute_result"
    }
   ],
   "source": [
    "sample_size = int(len(user) * 0.2)\n",
    "biographie = biographie[:sample_size]\n",
    "biographie = ''.join(map(str, biographie)).lower()\n",
    "len(chat['biographie'][0])\n",
    "user[:65970] # Show first 100 characters"
   ]
  },
  {
   "cell_type": "code",
   "execution_count": 44,
   "metadata": {},
   "outputs": [
    {
     "name": "stdout",
     "output_type": "stream",
     "text": [
      "Count of unique characters (i.e., features): 261\n"
     ]
    }
   ],
   "source": [
    "chars = sorted(list(set(biographie)))\n",
    "print('Count of unique characters (i.e., features):', len(chars))\n",
    "char_indices = dict((c, i) for i, c in enumerate(chars))\n",
    "indices_char = dict((i, c) for i, c in enumerate(chars))"
   ]
  },
  {
   "cell_type": "code",
   "execution_count": 47,
   "metadata": {},
   "outputs": [
    {
     "name": "stdout",
     "output_type": "stream",
     "text": [
      "Number of sequences: 2399281 \n",
      "\n"
     ]
    }
   ],
   "source": [
    "maxlen = 40\n",
    "step = 3\n",
    "sentences = []\n",
    "next_chars = []\n",
    "for i in range(0, len(biographie) - maxlen, step):\n",
    "    sentences.append(biographie[i: i + maxlen])\n",
    "    next_chars.append(biographie[i + maxlen])\n",
    "print('Number of sequences:', len(sentences), \"\\n\")"
   ]
  },
  {
   "cell_type": "code",
   "execution_count": 49,
   "metadata": {},
   "outputs": [
    {
     "name": "stdout",
     "output_type": "stream",
     "text": [
      "['marshall bruce mathers iii (born october', 'shall bruce mathers iii (born october 17', 'll bruce mathers iii (born october 17, 1', 'bruce mathers iii (born october 17, 1972', 'ce mathers iii (born october 17, 1972), ', 'mathers iii (born october 17, 1972), kno', 'hers iii (born october 17, 1972), known ', 's iii (born october 17, 1972), known pro', 'ii (born october 17, 1972), known profes', '(born october 17, 1972), known professio'] \n",
      "\n"
     ]
    }
   ],
   "source": [
    "print(sentences[:10], \"\\n\")"
   ]
  },
  {
   "cell_type": "code",
   "execution_count": 50,
   "metadata": {},
   "outputs": [
    {
     "name": "stdout",
     "output_type": "stream",
     "text": [
      "[' ', ',', '9', ')', 'k', 'w', 'p', 'f', 's', 'n']\n"
     ]
    }
   ],
   "source": [
    "print(next_chars[:10])"
   ]
  },
  {
   "cell_type": "code",
   "execution_count": 51,
   "metadata": {},
   "outputs": [],
   "source": [
    "x = np.zeros((len(sentences), maxlen, len(chars)), dtype=np.bool)\n",
    "y = np.zeros((len(sentences), len(chars)), dtype=np.bool)\n",
    "for i, sentence in enumerate(sentences):\n",
    "    for t, char in enumerate(sentence):\n",
    "        x[i, t, char_indices[char]] = 1\n",
    "    y[i, char_indices[next_chars[i]]] = 1"
   ]
  },
  {
   "cell_type": "code",
   "execution_count": 52,
   "metadata": {},
   "outputs": [
    {
     "name": "stdout",
     "output_type": "stream",
     "text": [
      "WARNING:tensorflow:From /Users/mranaivoharison/opt/anaconda3/envs/py37nlp/lib/python3.7/site-packages/tensorflow/python/ops/init_ops.py:1251: calling VarianceScaling.__init__ (from tensorflow.python.ops.init_ops) with dtype is deprecated and will be removed in a future version.\n",
      "Instructions for updating:\n",
      "Call initializer instance with the dtype argument instead of passing it to the constructor\n"
     ]
    }
   ],
   "source": [
    "model = Sequential()\n",
    "#model.add(Embedding(len(y), 10, input_length=len(x)))\n",
    "model.add(LSTM(128, input_shape=(maxlen, len(chars)),return_sequences=True))\n",
    "model.add(LSTM(128))\n",
    "model.add(Dense(len(chars)))\n",
    "model.add(Dropout(0.2))\n",
    "model.add(Activation('softmax'))"
   ]
  },
  {
   "cell_type": "code",
   "execution_count": 53,
   "metadata": {},
   "outputs": [
    {
     "name": "stdout",
     "output_type": "stream",
     "text": [
      "Model: \"sequential\"\n",
      "_________________________________________________________________\n",
      "Layer (type)                 Output Shape              Param #   \n",
      "=================================================================\n",
      "lstm (LSTM)                  (None, 40, 128)           199680    \n",
      "_________________________________________________________________\n",
      "lstm_1 (LSTM)                (None, 128)               131584    \n",
      "_________________________________________________________________\n",
      "dense (Dense)                (None, 261)               33669     \n",
      "_________________________________________________________________\n",
      "dropout (Dropout)            (None, 261)               0         \n",
      "_________________________________________________________________\n",
      "activation (Activation)      (None, 261)               0         \n",
      "=================================================================\n",
      "Total params: 364,933\n",
      "Trainable params: 364,933\n",
      "Non-trainable params: 0\n",
      "_________________________________________________________________\n"
     ]
    }
   ],
   "source": [
    "model.summary()"
   ]
  },
  {
   "cell_type": "code",
   "execution_count": 54,
   "metadata": {},
   "outputs": [],
   "source": [
    "optimizer = RMSprop(lr=0.01)\n",
    "model.compile(loss='categorical_crossentropy', optimizer=optimizer,metrics=['accuracy'])"
   ]
  },
  {
   "cell_type": "code",
   "execution_count": 55,
   "metadata": {},
   "outputs": [],
   "source": [
    "def sample(preds, temperature=1.0):\n",
    "    # helper function to sample an index from a probability array\n",
    "    preds = np.asarray(preds).astype('float64')\n",
    "    preds = np.log(preds) / temperature\n",
    "    exp_preds = np.exp(preds)\n",
    "    preds = exp_preds / np.sum(exp_preds)\n",
    "    probas = np.random.multinomial(1, preds, 1)\n",
    "    return np.argmax(probas)"
   ]
  },
  {
   "cell_type": "code",
   "execution_count": 56,
   "metadata": {},
   "outputs": [],
   "source": [
    "def on_epoch_end(epoch, logs):\n",
    "    # Function invoked for specified epochs. Prints generated text.\n",
    "    # Using epoch+1 to be consistent with the training epochs printed by Keras\n",
    "    if epoch+1 == 1 or epoch+1 == 15:\n",
    "        print()\n",
    "        print('----- Generating text after Epoch: %d' % epoch)\n",
    "\n",
    "        start_index = random.randint(0, len(user) - maxlen - 1)\n",
    "        for diversity in [0.2, 0.5, 1.0, 1.2]:\n",
    "            print('----- diversity:', diversity)\n",
    "\n",
    "            generated = ''\n",
    "            sentence = user[start_index: start_index + maxlen]\n",
    "            generated += sentence\n",
    "            print('----- Generating with seed: \"' + sentence + '\"')\n",
    "            sys.stdout.write(generated)\n",
    "\n",
    "            for i in range(400):\n",
    "                x_pred = np.zeros((1, maxlen, len(chars)))\n",
    "                for t, char in enumerate(sentence):\n",
    "                    x_pred[0, t, char_indices[char]] = 1.\n",
    "\n",
    "                preds = model.predict(x_pred, verbose=0)[0]\n",
    "                next_index = sample(preds, diversity)\n",
    "                next_char = indices_char[next_index]\n",
    "\n",
    "                generated += next_char\n",
    "                sentence = sentence[1:] + next_char\n",
    "\n",
    "                sys.stdout.write(next_char)\n",
    "                sys.stdout.flush()\n",
    "            print()\n",
    "    else:\n",
    "        print()\n",
    "        print('----- Not generating text after Epoch: %d' % epoch)"
   ]
  },
  {
   "cell_type": "code",
   "execution_count": 57,
   "metadata": {},
   "outputs": [],
   "source": [
    "generate_text = LambdaCallback(on_epoch_end=on_epoch_end)"
   ]
  },
  {
   "cell_type": "markdown",
   "metadata": {},
   "source": [
    "# Training the model and generating predictions"
   ]
  },
  {
   "cell_type": "code",
   "execution_count": null,
   "metadata": {},
   "outputs": [
    {
     "name": "stdout",
     "output_type": "stream",
     "text": [
      "WARNING:tensorflow:From /Users/mranaivoharison/opt/anaconda3/envs/py37nlp/lib/python3.7/site-packages/tensorflow/python/ops/math_grad.py:1250: add_dispatch_support.<locals>.wrapper (from tensorflow.python.ops.array_ops) is deprecated and will be removed in a future version.\n",
      "Instructions for updating:\n",
      "Use tf.where in 2.0, which has the same broadcast rule as np.where\n",
      "Epoch 1/50\n"
     ]
    }
   ],
   "source": [
    "# define the checkpoint\n",
    "filepath = \"weights.hdf5\"\n",
    "checkpoint = ModelCheckpoint(filepath, \n",
    "                             monitor='loss', \n",
    "                             verbose=1, \n",
    "                             save_best_only=True, \n",
    "                             mode='min')\n",
    "\n",
    "# serialize model to YAML\n",
    "model_yaml = model.to_yaml()\n",
    "with open(\"model.yaml\", \"w\") as yaml_file:\n",
    "    yaml_file.write(model_yaml)\n",
    "    \n",
    "# fit model using our gpu\n",
    "with tf.device('/gpu:0'):\n",
    "    model.fit(x, y,\n",
    "              batch_size=128,\n",
    "              epochs=50,\n",
    "              verbose=2,\n",
    "              callbacks=[generate_text, checkpoint])"
   ]
  },
  {
   "cell_type": "code",
   "execution_count": null,
   "metadata": {},
   "outputs": [],
   "source": []
  },
  {
   "cell_type": "code",
   "execution_count": null,
   "metadata": {},
   "outputs": [],
   "source": [
    "# serialize model to JSON\n",
    "model_json = model.to_json()\n",
    "with open(\"model.json\", \"w\") as json_file:\n",
    "    json_file.write(model_json)\n",
    "# serialize weights to HDF5\n",
    "model.save_weights(\"model.h5\")\n",
    "print(\"Saved model to disk\")\n",
    " \n",
    "# later...\n",
    " \n",
    "# load json and create model\n",
    "json_file = open('model.json', 'r')\n",
    "loaded_model_json = json_file.read()\n",
    "json_file.close()\n",
    "loaded_model = model_from_json(loaded_model_json)\n",
    "# load weights into new model\n",
    "loaded_model.load_weights(\"weights.hdf5\")\n",
    "print(\"Loaded model from disk\")"
   ]
  },
  {
   "cell_type": "code",
   "execution_count": null,
   "metadata": {},
   "outputs": [],
   "source": []
  },
  {
   "cell_type": "code",
   "execution_count": null,
   "metadata": {},
   "outputs": [],
   "source": []
  },
  {
   "cell_type": "code",
   "execution_count": null,
   "metadata": {},
   "outputs": [],
   "source": []
  },
  {
   "cell_type": "code",
   "execution_count": null,
   "metadata": {},
   "outputs": [],
   "source": [
    "user"
   ]
  },
  {
   "cell_type": "code",
   "execution_count": null,
   "metadata": {},
   "outputs": [],
   "source": []
  },
  {
   "cell_type": "markdown",
   "metadata": {},
   "source": [
    "# Test avec une autre biographie"
   ]
  },
  {
   "cell_type": "code",
   "execution_count": null,
   "metadata": {},
   "outputs": [],
   "source": [
    "# evaluate loaded model on test data\n",
    "model.compile(loss='categorical_crossentropy', optimizer=optimizer,metrics=['accuracy'])"
   ]
  },
  {
   "cell_type": "code",
   "execution_count": null,
   "metadata": {},
   "outputs": [],
   "source": []
  },
  {
   "cell_type": "code",
   "execution_count": null,
   "metadata": {},
   "outputs": [],
   "source": [
    "score = loaded_model.evaluate(X, Y, verbose=0)\n",
    "print(\"%s: %.2f%%\" % (loaded_model.metrics_names[1], score[1]*100))"
   ]
  },
  {
   "cell_type": "code",
   "execution_count": null,
   "metadata": {},
   "outputs": [],
   "source": [
    "# create model\n",
    "model = Sequential()\n",
    "model.add(Dense(12, input_dim=8, activation='relu'))\n",
    "model.add(Dense(8, activation='relu'))\n",
    "model.add(Dense(1, activation='sigmoid'))\n",
    "# load weights\n",
    "model.load_weights(\"weights.best.hdf5\")\n",
    "# Compile model (required to make predictions)\n",
    "model.compile(loss='binary_crossentropy', optimizer='adam', metrics=['accuracy'])\n",
    "print(\"Created model and loaded weights from file\")\n",
    "# load pima indians dataset\n",
    "dataset = numpy.loadtxt(\"pima-indians-diabetes.csv\", delimiter=\",\")\n",
    "# split into input (X) and output (Y) variables\n",
    "X = dataset[:,0:8]\n",
    "Y = dataset[:,8]\n",
    "# estimate accuracy on whole dataset using loaded weights\n",
    "scores = model.evaluate(X, Y, verbose=0)\n",
    "print(\"%s: %.2f%%\" % (model.metrics_names[1], scores[1]*100))"
   ]
  }
 ],
 "metadata": {
  "kernelspec": {
   "display_name": "Python 3",
   "language": "python",
   "name": "python3"
  },
  "language_info": {
   "codemirror_mode": {
    "name": "ipython",
    "version": 3
   },
   "file_extension": ".py",
   "mimetype": "text/x-python",
   "name": "python",
   "nbconvert_exporter": "python",
   "pygments_lexer": "ipython3",
   "version": "3.7.3"
  }
 },
 "nbformat": 4,
 "nbformat_minor": 4
}
